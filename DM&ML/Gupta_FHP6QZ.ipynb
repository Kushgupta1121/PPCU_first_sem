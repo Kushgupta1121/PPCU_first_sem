{
  "cells": [
    {
      "cell_type": "markdown",
      "source": [
        "## **Patient Classification- Data Mining and Machine Learning**"
      ],
      "metadata": {
        "id": "XwshxjL5CKXS"
      }
    },
    {
      "cell_type": "markdown",
      "source": [
        "Please Note that i've tried to comment parts where i'm trying to fit the model and making predicitions on the test data. Please don't run the whole code other wise it might run longer as the training part takes time and it might get stuck.To check the code please run it in parts."
      ],
      "metadata": {
        "id": "CTmFTAZQCXpr"
      }
    },
    {
      "cell_type": "markdown",
      "metadata": {
        "id": "d-v690POL4ac"
      },
      "source": [
        "Mount Google Drive"
      ]
    },
    {
      "cell_type": "code",
      "execution_count": 3,
      "metadata": {
        "colab": {
          "base_uri": "https://localhost:8080/"
        },
        "id": "oyOgRihf7sBC",
        "outputId": "fcb5ba70-98a2-47de-fd96-80a2e61436b2"
      },
      "outputs": [
        {
          "output_type": "stream",
          "name": "stdout",
          "text": [
            "Drive already mounted at /content/drive; to attempt to forcibly remount, call drive.mount(\"/content/drive\", force_remount=True).\n"
          ]
        }
      ],
      "source": [
        "# connecting to google drive where the datasets are stored\n",
        "from google.colab import drive\n",
        "drive.mount('/content/drive')"
      ]
    },
    {
      "cell_type": "markdown",
      "metadata": {
        "id": "lP6DmXrOMJKH"
      },
      "source": [
        "Locate the file into drive"
      ]
    },
    {
      "cell_type": "code",
      "source": [
        "#pip install sweetviz. # uncomment and run to install sweetviz, if not already installed"
      ],
      "metadata": {
        "id": "LtvtjHaL1n3R"
      },
      "execution_count": null,
      "outputs": []
    },
    {
      "cell_type": "code",
      "execution_count": null,
      "metadata": {
        "id": "Qfr4eb7kDhSy"
      },
      "outputs": [],
      "source": [
        "#importing libraries used\n",
        "#import sweetviz as sv\n",
        "import pandas as pd\n",
        "import seaborn as sns\n",
        "import numpy as np\n",
        "import matplotlib.pyplot as plt\n",
        "%matplotlib inline"
      ]
    },
    {
      "cell_type": "code",
      "execution_count": null,
      "metadata": {
        "id": "LLemMcH67qY6"
      },
      "outputs": [],
      "source": [
        "#pip install sklearn"
      ]
    },
    {
      "cell_type": "code",
      "execution_count": 6,
      "metadata": {
        "id": "WWU1A6L5L3wp"
      },
      "outputs": [],
      "source": [
        "path= 'drive/My Drive/Data_mining/'  # defining path of file"
      ]
    },
    {
      "cell_type": "code",
      "execution_count": 7,
      "metadata": {
        "id": "gz5cghgxP-q0"
      },
      "outputs": [],
      "source": [
        "train_x = pd.read_csv(path+'X_train.csv') # reading X_train"
      ]
    },
    {
      "cell_type": "code",
      "execution_count": 8,
      "metadata": {
        "id": "s3Uh3gz105-c"
      },
      "outputs": [],
      "source": [
        "train_y = pd.read_csv(path+'Y_train.csv') # reading Y_train"
      ]
    },
    {
      "cell_type": "code",
      "execution_count": 9,
      "metadata": {
        "id": "wgUaYdjnynj0"
      },
      "outputs": [],
      "source": [
        "test_x=pd.read_csv(path+'X_test.csv') # reading X_test"
      ]
    },
    {
      "cell_type": "code",
      "execution_count": null,
      "metadata": {
        "id": "UaWjXD0UgydX"
      },
      "outputs": [],
      "source": [
        "train_col=train_y.TARGET.unique()"
      ]
    },
    {
      "cell_type": "code",
      "execution_count": null,
      "metadata": {
        "id": "McUiZZbv7qY8",
        "outputId": "88a2e96c-eeed-49b1-e0f2-0454a0b81b80"
      },
      "outputs": [
        {
          "data": {
            "text/plain": [
              "19"
            ]
          },
          "execution_count": 32,
          "metadata": {},
          "output_type": "execute_result"
        }
      ],
      "source": [
        "#Checking the Target Columns\n",
        "train_col"
      ]
    },
    {
      "cell_type": "code",
      "execution_count": null,
      "metadata": {
        "id": "kTT0tAS87qY9"
      },
      "outputs": [],
      "source": [
        "train_col_df=pd.DataFrame(data=train_col,columns=['TARGET'])"
      ]
    },
    {
      "cell_type": "code",
      "execution_count": null,
      "metadata": {
        "id": "W7Sv_wnQ7qY9"
      },
      "outputs": [],
      "source": [
        "train_col_df"
      ]
    },
    {
      "cell_type": "code",
      "execution_count": 10,
      "metadata": {
        "id": "0kpzmd_E7qY9"
      },
      "outputs": [],
      "source": [
        "train_x_new=train_x"
      ]
    },
    {
      "cell_type": "code",
      "execution_count": null,
      "metadata": {
        "id": "gW59s_7qlIVP"
      },
      "outputs": [],
      "source": [
        "#Rename columns as they have spaces between them\n",
        "#train_x = train_x.rename(columns={'Base Excess': 'Base_Excess','Alanine Aminotransferase (ALT)':'Alanine_Aminotransferase_(ALT)','Alkaline Phosphatase':'Alkaline_Phosphatase','Anion Gap':'Anion_Gap','Asparate Aminotransferase (AST)':'Asparate_Aminotransferase_(AST)','Bilirubin, Total':'Bilirubin_Total'\n",
        "#,'Calcium, Total':'Calcium_Total','Calculated Total CO2':'Calculated_Total_CO2','Platelet Count':'Platelet_Count','Red Blood Cells':'Red_Blood_Cells','Urea Nitrogen':'Urea_Nitrogen',\n",
        "#'White Blood Cells':'White_Blood_Cells'})\n"
      ]
    },
    {
      "cell_type": "code",
      "execution_count": null,
      "metadata": {
        "id": "tQJyZzI3MrRq"
      },
      "outputs": [],
      "source": [
        "train_x.shape #(3696245, 43)\n",
        "#train_x.head(10)\n",
        "#train_x.info()"
      ]
    },
    {
      "cell_type": "code",
      "execution_count": 11,
      "metadata": {
        "id": "xnYluxPqa2ca"
      },
      "outputs": [],
      "source": [
        "# Funtion to Convert the categorical features to numerical features using label encoder\n",
        "from sklearn import preprocessing\n",
        "def convert(data):\n",
        "    number = preprocessing.LabelEncoder()\n",
        "    data['Admission_type'] = number.fit_transform(data.Admission_type)\n",
        "    data['Marital_status'] = number.fit_transform(data.Marital_status)\n",
        "    data['Ethnicity'] = number.fit_transform(data.Ethnicity)\n",
        "    data['Gender'] = number.fit_transform(data.Gender)\n",
        "    data['Hospital_death_flag'] = number.fit_transform(data.Hospital_death_flag)\n",
        "    #data=data.fillna(method='pad')\n",
        "    return data"
      ]
    },
    {
      "cell_type": "code",
      "execution_count": null,
      "metadata": {
        "id": "F_Tw8CH-McYm"
      },
      "outputs": [],
      "source": [
        "#Droping initally some records where the values are missing.\n",
        "#to_drop=['Admission_type','Marital_status','Ethnicity','Hospital_death_flag']\n",
        "#train_x_new=train_x.dropna(axis=0,subset=to_drop)\n",
        "\n"
      ]
    },
    {
      "cell_type": "code",
      "execution_count": 12,
      "metadata": {
        "id": "vZnUfPyWhDso"
      },
      "outputs": [],
      "source": [
        "#Filling up missing categorical values in Training data with mode of respective features\n",
        "train_x['Admission_type'].fillna(value=train_x['Admission_type'].mode(),inplace=True)\n",
        "train_x['Marital_status'].fillna(value=train_x['Marital_status'].mode(),inplace=True)\n",
        "train_x['Ethnicity'].fillna(value=train_x['Ethnicity'].mode(),inplace=True)\n",
        "train_x['Hospital_death_flag'].fillna(value=train_x['Hospital_death_flag'].mode(),inplace=True)"
      ]
    },
    {
      "cell_type": "code",
      "execution_count": 13,
      "metadata": {
        "id": "rL4Icuqji2qj"
      },
      "outputs": [],
      "source": [
        "#Filling up missing categorical values in Test data with mode of respective features\n",
        "test_x['Admission_type'].fillna(value=test_x['Admission_type'].mode(),inplace=True)\n",
        "test_x['Marital_status'].fillna(value=test_x['Marital_status'].mode(),inplace=True)\n",
        "test_x['Ethnicity'].fillna(value=test_x['Ethnicity'].mode(),inplace=True)\n",
        "test_x['Hospital_death_flag'].fillna(value=test_x['Hospital_death_flag'].mode(),inplace=True)"
      ]
    },
    {
      "cell_type": "code",
      "execution_count": 14,
      "metadata": {
        "id": "QowU9sA-jsXR"
      },
      "outputs": [],
      "source": [
        "#convert categorical features of train data to have numerical values\n",
        "train_x_1=train_x\n",
        "train_x_1=convert(train_x_1)"
      ]
    },
    {
      "cell_type": "code",
      "execution_count": null,
      "metadata": {
        "id": "pQIb-_rNWttR"
      },
      "outputs": [],
      "source": [
        "#train_x.head(5)"
      ]
    },
    {
      "cell_type": "code",
      "execution_count": 15,
      "metadata": {
        "id": "dFGalQGIOQXm"
      },
      "outputs": [],
      "source": [
        "#convert categorical features of test data to have numerical values\n",
        "test_x_1=test_x\n",
        "test_data=convert(test_x_1)"
      ]
    },
    {
      "cell_type": "code",
      "execution_count": null,
      "metadata": {
        "collapsed": true,
        "id": "JZkvMhitkJFN"
      },
      "outputs": [],
      "source": [
        "#for_train_x.info()\n",
        "#test_data.info()"
      ]
    },
    {
      "cell_type": "code",
      "execution_count": 19,
      "metadata": {
        "id": "pV2ONgJrW20_"
      },
      "outputs": [],
      "source": [
        "#Sub sampling X_train data\n",
        "sample_train_x_1=train_x_new[0:3696245:20] #X_train\n"
      ]
    },
    {
      "cell_type": "code",
      "execution_count": 9,
      "metadata": {
        "id": "7_w2jwSaxPYD",
        "colab": {
          "base_uri": "https://localhost:8080/"
        },
        "outputId": "d30bc6b8-b534-4eb6-b632-e7932fe35843"
      },
      "outputs": [
        {
          "output_type": "execute_result",
          "data": {
            "text/plain": [
              "(184813, 1)"
            ]
          },
          "metadata": {},
          "execution_count": 9
        }
      ],
      "source": [
        "#Sub sampling Y_train data based on the index of X_train\n",
        "sample_train_y_1=train_y.iloc[sample_train_x_1.index] # y_train\n",
        "sample_train_y_1.shape"
      ]
    },
    {
      "cell_type": "code",
      "execution_count": 10,
      "metadata": {
        "id": "367SncOnjQxw"
      },
      "outputs": [],
      "source": [
        "#selecting certain features to train a model\n",
        "columns=['Condition_importance','Admission_type','Gender','Marital_status','Ethnicity','Hospital_death_flag','Age','Alanine Aminotransferase (ALT)','Bicarbonate','Bilirubin, Total','Calcium, Total','Creatinine','Hematocrit','Hemoglobin','INR(PT)','MCH','Red Blood Cells','Magnesium'] #'Marital_status','Gender',\n",
        "sample_train_x_1[columns]\n",
        "sample_train_x_1=sample_train_x_1[columns]\n"
      ]
    },
    {
      "cell_type": "code",
      "execution_count": null,
      "metadata": {
        "id": "EzHVKpPE4XOP"
      },
      "outputs": [],
      "source": [
        "# checking for null values in the training dataset\n",
        "sns.heatmap(sample_train_x_1.isnull(),yticklabels=False,cbar=False,cmap='viridis')\n"
      ]
    },
    {
      "cell_type": "code",
      "execution_count": null,
      "metadata": {
        "id": "VhQXZLTP4dqH"
      },
      "outputs": [],
      "source": [
        "#sample_train_x_1['Magnesium'].fillna(value=2.0,inplace=True)\n",
        "sample_train_x_1[sample_train_x_1['Magnesium'].isnull()] # checking for the null values in the sample training data "
      ]
    },
    {
      "cell_type": "markdown",
      "source": [
        "1. Initially, since we had a huge dataset and a lot of values were missing in the dataset. So, I tried to drop all the null values from the dataset and tried building different classifiers on it. In the test data, the values were filled with mean, median, or mode depending on the individual feature’s distribution.\n"
      ],
      "metadata": {
        "id": "J6OVOL-nswKx"
      }
    },
    {
      "cell_type": "code",
      "execution_count": null,
      "metadata": {
        "id": "E5wZGhmP1CiS"
      },
      "outputs": [],
      "source": [
        "#dropping all records where the instances are null\n",
        "sample_train_x_1=sample_train_x_1.dropna(axis=0)\n",
        "\n",
        "sample_train_x_1.shape # building model on this cleaned data"
      ]
    },
    {
      "cell_type": "code",
      "execution_count": 12,
      "metadata": {
        "id": "inus450byVuR",
        "colab": {
          "base_uri": "https://localhost:8080/"
        },
        "outputId": "7102b6fb-5dd6-4382-cad1-58d8b2f2c5b8"
      },
      "outputs": [
        {
          "output_type": "execute_result",
          "data": {
            "text/plain": [
              "(62887, 1)"
            ]
          },
          "metadata": {},
          "execution_count": 12
        }
      ],
      "source": [
        "# sampling y train randomly as the y_train and X_train should be equal.\n",
        "sample_train_y_1=train_y.iloc[sample_train_x_1.index] # y_train\n",
        "sample_train_y_1.shape"
      ]
    },
    {
      "cell_type": "code",
      "execution_count": 13,
      "metadata": {
        "id": "E_c1BkYt6tQ5"
      },
      "outputs": [],
      "source": [
        "# function to save the predicted result.\n",
        "def save_result(model,model_name):\n",
        "  res = pd.DataFrame(model)\n",
        "  res.index +=1\n",
        "  res.to_csv(path+model_name+'.csv',header=['TARGET'],index_label=['ID'])"
      ]
    },
    {
      "cell_type": "code",
      "execution_count": null,
      "metadata": {
        "id": "JYdXcmOGUJ3A"
      },
      "outputs": [],
      "source": [
        "#sns.heatmap(test_data.isnull(),yticklabels=False,cbar=False,cmap='viridis')\n"
      ]
    },
    {
      "cell_type": "code",
      "execution_count": 16,
      "metadata": {
        "id": "DMVS_qFLz9WJ"
      },
      "outputs": [],
      "source": [
        "#Replace all nan values are replaced with their median\n",
        "test_data['Alanine Aminotransferase (ALT)'].fillna(value=22.0,inplace=True)\n",
        "test_data['Alkaline Phosphatase'].fillna(value=89.0,inplace=True)\n",
        "test_data['Anion Gap'].fillna(value=14.0,inplace=True)\n",
        "test_data['Asparate Aminotransferase (AST)'].fillna(value=28.0,inplace=True)\n",
        "test_data['Base Excess'].fillna(value=0.0,inplace=True)\n",
        "test_data['Bicarbonate'].fillna(value=25.0,inplace=True)\n",
        "test_data['Bilirubin, Total'].fillna(value=1.7,inplace=True)\n",
        "test_data['Calcium, Total'].fillna(value=8.8,inplace=True)\n",
        "test_data['Calculated Total CO2'].fillna(value=26.0,inplace=True)\n",
        "test_data['Chloride'].fillna(value=103.0,inplace=True)\n",
        "test_data['Creatinine'].fillna(value=1.5,inplace=True)\n",
        "test_data['Glucose'].fillna(value=100.0,inplace=True)\n",
        "test_data['H'].fillna(value=8.0,inplace=True)\n",
        "test_data['Hematocrit'].fillna(value=33.8,inplace=True)\n",
        "test_data['Hemoglobin'].fillna(value=11.2,inplace=True)\n",
        "test_data['I'].fillna(value=1.6,inplace=True)\n",
        "test_data['INR(PT)'].fillna(value=1.2,inplace=True)\n",
        "test_data['L'].fillna(value=8.0,inplace=True)\n",
        "test_data['MCH'].fillna(value=30.3,inplace=True)\n",
        "test_data['MCHC'].fillna(value=32.8,inplace=True)\n",
        "test_data['MCV'].fillna(value=91.0,inplace=True)\n",
        "test_data['Magnesium'].fillna(value=2.0,inplace=True)\n",
        "test_data['PT'].fillna(value=13.0,inplace=True)\n",
        "test_data['PTT'].fillna(value=31.0,inplace=True)\n",
        "test_data['Phosphate'].fillna(value=3.5,inplace=True)\n",
        "test_data['Platelet Count'].fillna(value=212.0,inplace=True)\n",
        "test_data['Potassium'].fillna(value=4.1,inplace=True)\n",
        "test_data['RDW'].fillna(value=14.6,inplace=True)\n",
        "test_data['RDW-SD'].fillna(value=48.0,inplace=True)\n",
        "test_data['Red Blood Cells'].fillna(value=3.8,inplace=True)\n",
        "test_data['Sodium'].fillna(value=139.0,inplace=True)\n",
        "test_data['Urea Nitrogen'].fillna(value=19.0,inplace=True)\n",
        "test_data['White Blood Cells'].fillna(value=8.0,inplace=True)\n",
        "test_data['pCO2'].fillna(value=41.0,inplace=True)\n",
        "test_data['pH'].fillna(value=6.5,inplace=True)\n",
        "test_data['pO2'].fillna(value=106.0,inplace=True)\n"
      ]
    },
    {
      "cell_type": "code",
      "execution_count": null,
      "metadata": {
        "id": "x7Ey7mUhT3Wc"
      },
      "outputs": [],
      "source": [
        "#test_data=test_data[columns]\n",
        "test_data.info()\n",
        "#test_x.info()\n"
      ]
    },
    {
      "cell_type": "code",
      "execution_count": null,
      "metadata": {
        "id": "UAC-K87QW3EY"
      },
      "outputs": [],
      "source": [
        "test_data.isna()\n"
      ]
    },
    {
      "cell_type": "code",
      "execution_count": null,
      "metadata": {
        "id": "wuGjusojWQTY"
      },
      "outputs": [],
      "source": [
        "test_data[test_data.isna()]"
      ]
    },
    {
      "cell_type": "markdown",
      "source": [
        "Sklearn’s Decision tree:- To get started and to understand the features better, I started with a decision tree classifier which splits the data on the feature that results in the largest information gain (IG)"
      ],
      "metadata": {
        "id": "B1DSfH1-s3U9"
      }
    },
    {
      "cell_type": "code",
      "execution_count": null,
      "metadata": {
        "id": "9F9LXu0V1DJX"
      },
      "outputs": [],
      "source": [
        "#importing decision tree classifier to build decision tree\n",
        "from sklearn.tree import DecisionTreeClassifier\n",
        "dc_clf = DecisionTreeClassifier(random_state=42,min_samples_split=20)fit(sample_train_x_1, sample_train_y_1)"
      ]
    },
    {
      "cell_type": "code",
      "execution_count": null,
      "metadata": {
        "id": "S8dOCrga4nFo"
      },
      "outputs": [],
      "source": [
        "Decision_tree_predictions=dc_clf.predict(test_data)"
      ]
    },
    {
      "cell_type": "code",
      "execution_count": null,
      "metadata": {
        "id": "VVht7oRB4rcs"
      },
      "outputs": [],
      "source": [
        "Decision_tree_predictions.shape"
      ]
    },
    {
      "cell_type": "code",
      "execution_count": null,
      "metadata": {
        "id": "uMns-pQKNInE"
      },
      "outputs": [],
      "source": [
        "save_result(Decision_tree_predictions,'Decision_tree_predictions_2')"
      ]
    },
    {
      "cell_type": "markdown",
      "source": [
        "Tried K-Nearest neighbors, Instance-based learning and here we do not learn weights from training data to predict output but used entire training instances to predict output for unseen data,"
      ],
      "metadata": {
        "id": "Oy71VmaotnWB"
      }
    },
    {
      "cell_type": "code",
      "execution_count": null,
      "metadata": {
        "id": "aOIcu-RqwiFn"
      },
      "outputs": [],
      "source": [
        "#importing KNN  classifier to build KNN model\n",
        "from sklearn.neighbors import KNeighborsClassifier\n",
        "knn = KNeighborsClassifier()\n",
        "#knn = KNeighborsClassifier(leaf_size=10, n_neighbors=10, p=2)"
      ]
    },
    {
      "cell_type": "code",
      "execution_count": null,
      "metadata": {
        "id": "ffCf2nlLqcNF"
      },
      "outputs": [],
      "source": [
        "model=knn.fit(sample_train_x_1, sample_train_y_1)\n",
        "#best_model = clf.fit(x,y)\n",
        "#model=knn_clf.fit(sample_train_x_1, sample_train_y_1)\n"
      ]
    },
    {
      "cell_type": "code",
      "execution_count": null,
      "metadata": {
        "id": "Oi9khayZxRd4"
      },
      "outputs": [],
      "source": [
        "knn_result=model.predict(test_data)"
      ]
    },
    {
      "cell_type": "code",
      "execution_count": null,
      "metadata": {
        "id": "2jF8bjEjzHhk"
      },
      "outputs": [],
      "source": [
        "knn_result.shape"
      ]
    },
    {
      "cell_type": "code",
      "execution_count": null,
      "metadata": {
        "id": "vrQncYVB0LUX"
      },
      "outputs": [],
      "source": [
        "save_result(knn_result,'KNN_model_2')"
      ]
    },
    {
      "cell_type": "markdown",
      "metadata": {
        "id": "CKu6U3X99PmO"
      },
      "source": [
        "2. Instead of dropping the NA’s in the features, replaced them with their respective mean, subsampled the data, and implemented the below classifiers. Similarly, in the test data, the same set of features was used for predicting, and NA’s were filled with their mean values."
      ]
    },
    {
      "cell_type": "code",
      "execution_count": 20,
      "metadata": {
        "id": "Dg5CfnMX-Ka4"
      },
      "outputs": [],
      "source": [
        "sample_train_x_2=train_x_new[0:3456696:40] # X_train_2"
      ]
    },
    {
      "cell_type": "code",
      "execution_count": null,
      "metadata": {
        "id": "pl3zpgp474mc"
      },
      "outputs": [],
      "source": [
        "# selecting only defined 18 columns and increasing the number of instances.\n",
        "sample_train_x_2=sample_train_x_2[columns]\n",
        "sample_train_x_2.shape"
      ]
    },
    {
      "cell_type": "code",
      "execution_count": 22,
      "metadata": {
        "id": "w-7Bj0pC9lGq"
      },
      "outputs": [],
      "source": [
        "#Converting categorical columns to Numerical\n",
        "sample_train_x_2=convert(sample_train_x_2)"
      ]
    },
    {
      "cell_type": "code",
      "execution_count": null,
      "metadata": {
        "id": "mdzqHml384rr"
      },
      "outputs": [],
      "source": [
        "sns.heatmap(sample_train_x_2.isnull(),yticklabels=False,cbar=False,cmap='viridis')\n"
      ]
    },
    {
      "cell_type": "code",
      "execution_count": null,
      "metadata": {
        "id": "CFaUOMk5EoRL"
      },
      "outputs": [],
      "source": [
        "sample_train_x_2.head(5)"
      ]
    },
    {
      "cell_type": "code",
      "execution_count": null,
      "metadata": {
        "id": "kzTxe7DABOQv"
      },
      "outputs": [],
      "source": [
        "sample_train_x_2.info()"
      ]
    },
    {
      "cell_type": "code",
      "execution_count": 23,
      "metadata": {
        "id": "WefkekCOBQUQ"
      },
      "outputs": [],
      "source": [
        "column_names=[]\n",
        "for col_name in sample_train_x_2.columns: \n",
        "    column_names.append(col_name)"
      ]
    },
    {
      "cell_type": "code",
      "execution_count": null,
      "metadata": {
        "id": "YjRCrzf4CzsW"
      },
      "outputs": [],
      "source": [
        "column_names"
      ]
    },
    {
      "cell_type": "code",
      "execution_count": 24,
      "metadata": {
        "id": "kMprW9g1CHbV"
      },
      "outputs": [],
      "source": [
        "column_names.remove('Condition_importance')\n",
        "column_names.remove('Admission_type')\n",
        "column_names.remove('Gender')\n",
        "column_names.remove('Marital_status')\n",
        "column_names.remove('Ethnicity')\n",
        "column_names.remove('Hospital_death_flag')\n",
        "column_names.remove('Age')"
      ]
    },
    {
      "cell_type": "code",
      "execution_count": 25,
      "metadata": {
        "id": "30VUhGFVDK1d"
      },
      "outputs": [],
      "source": [
        "for col in column_names:\n",
        "  sample_train_x_2[col].fillna(value=sample_train_x_2[col].mean(),inplace=True)\n"
      ]
    },
    {
      "cell_type": "code",
      "execution_count": null,
      "metadata": {
        "id": "Q1vsKPPAFNYG"
      },
      "outputs": [],
      "source": [
        "sample_train_x_2.shape# training data set ready"
      ]
    },
    {
      "cell_type": "code",
      "execution_count": null,
      "metadata": {
        "id": "9x1ZFAFuIdfg"
      },
      "outputs": [],
      "source": [
        "#sample_train_x_2.index"
      ]
    },
    {
      "cell_type": "code",
      "execution_count": null,
      "metadata": {
        "id": "fLRs7ZteGGRU"
      },
      "outputs": [],
      "source": [
        "sample_train_y_2.shape #(86418, 1)\n",
        "\n",
        "#sample_train_y_2.head(5)"
      ]
    },
    {
      "cell_type": "code",
      "execution_count": 26,
      "metadata": {
        "id": "2mX7KBNFFcHT"
      },
      "outputs": [],
      "source": [
        "sample_train_y_2=train_y.iloc[sample_train_x_2.index] # y_train\n"
      ]
    },
    {
      "cell_type": "markdown",
      "source": [
        "Since the results obtained by the decision tree classifier were not good earlier, I tried fine-tuning the decision tree algorithm by tuning the parameters "
      ],
      "metadata": {
        "id": "DjCZzCdvu4Kq"
      }
    },
    {
      "cell_type": "code",
      "source": [
        "from sklearn.tree import DecisionTreeClassifier\n",
        "dc_clf = DecisionTreeClassifier(criterion='Entropy',splitter='best',max_depth=8,max_features='log2',random_state=42).fit(sample_train_x_2, sample_train_y_2)\n"
      ],
      "metadata": {
        "id": "7hBqEhtfr4ml"
      },
      "execution_count": null,
      "outputs": []
    },
    {
      "cell_type": "code",
      "execution_count": null,
      "metadata": {
        "id": "nMXtnVN4tc4E"
      },
      "outputs": [],
      "source": [
        "Decision_tree_predictions=dc_clf.predict(test_data)"
      ]
    },
    {
      "cell_type": "code",
      "execution_count": null,
      "metadata": {
        "id": "4xMwv60Vtc4E"
      },
      "outputs": [],
      "source": [
        "Decision_tree_predictions.shape"
      ]
    },
    {
      "cell_type": "code",
      "execution_count": null,
      "metadata": {
        "id": "uhg4HbnPtc4F"
      },
      "outputs": [],
      "source": [
        "save_result(Decision_tree_predictions,'Decision_tree_predictions_2')"
      ]
    },
    {
      "cell_type": "markdown",
      "source": [
        "Tried Tuning the KNN model to avoid overfitting by changing the below parameters and\tthe accuracy increased to ~13% compared to the previous KNN model"
      ],
      "metadata": {
        "id": "Z_PFWkgMvurr"
      }
    },
    {
      "cell_type": "code",
      "execution_count": null,
      "metadata": {
        "id": "bIrrdOUuvkgW"
      },
      "outputs": [],
      "source": [
        "#importing KNN  classifier to build KNN model\n",
        "from sklearn.neighbors import KNeighborsClassifier\n",
        "knn = KNeighborsClassifier(leaf_size=10, n_neighbors=10, p=2)"
      ]
    },
    {
      "cell_type": "code",
      "execution_count": null,
      "metadata": {
        "id": "KgFjX-QFvkgX"
      },
      "outputs": [],
      "source": [
        "model=knn.fit(sample_train_x_2, sample_train_y_2)\n",
        "#best_model = clf.fit(x,y)\n",
        "#model=knn_clf.fit(sample_train_x_1, sample_train_y_1)\n"
      ]
    },
    {
      "cell_type": "code",
      "execution_count": null,
      "metadata": {
        "id": "NWWarpS4vkgX"
      },
      "outputs": [],
      "source": [
        "knn_result=model.predict(test_data)"
      ]
    },
    {
      "cell_type": "markdown",
      "source": [
        "RandomForestClassifier from sklearn using the data set. Selected some important features after some research about the domain, to understand feature importances and tried random forest on the data. Initially, I chose a smaller value of decision trees (30), and increased it to 100 to see how the model performs. I could see that at n_estimators =100, the accuracy is ~21%"
      ],
      "metadata": {
        "id": "1KuQUAf3vPZ6"
      }
    },
    {
      "cell_type": "code",
      "execution_count": null,
      "metadata": {
        "id": "0F2hWE1EMIWa"
      },
      "outputs": [],
      "source": [
        "# Random forest classifier\n",
        "from sklearn.ensemble import RandomForestClassifier\n",
        "rf_clf=RandomForestClassifier(n_estimators=100)\n"
      ]
    },
    {
      "cell_type": "code",
      "execution_count": null,
      "metadata": {
        "id": "DJ27f79VPCsU"
      },
      "outputs": [],
      "source": [
        "rf_clf.fit(sample_train_x_2,sample_train_y_2)\n"
      ]
    },
    {
      "cell_type": "code",
      "execution_count": null,
      "metadata": {
        "id": "b9dNeMyePDSi"
      },
      "outputs": [],
      "source": [
        "rf_predict=rf_clf.predict(test_data)\n"
      ]
    },
    {
      "cell_type": "code",
      "execution_count": null,
      "metadata": {
        "id": "wXcXJh8vYNcf"
      },
      "outputs": [],
      "source": [
        "save_result(rf_predict,'random_forest_model')"
      ]
    },
    {
      "cell_type": "code",
      "execution_count": null,
      "metadata": {
        "id": "AvthAC1NYkPG"
      },
      "outputs": [],
      "source": [
        "result=read_test_file('random_forest_model')"
      ]
    },
    {
      "cell_type": "code",
      "execution_count": null,
      "metadata": {
        "id": "sW4z6A5MY7by"
      },
      "outputs": [],
      "source": [
        "result.head(5)"
      ]
    },
    {
      "cell_type": "markdown",
      "source": [
        " I tried to do a GridSearchCV with below parameters, however due to CPU and RAM constraint the operation below couldn’t be completed.\n",
        "Note:- Code is commented so that, it doesn't run automatically."
      ],
      "metadata": {
        "id": "xtEnN9eJv7Yt"
      }
    },
    {
      "cell_type": "code",
      "execution_count": null,
      "metadata": {
        "id": "v-cIxvjWffvP"
      },
      "outputs": [],
      "source": [
        "#leaf_size = list(range(1,5))#50\n",
        "#n_neighbors = list(range(1,5))#30\n",
        "#p=[1,2]\n",
        "#hyperparameters = dict(leaf_size=leaf_size, n_neighbors=n_neighbors, p=p)\n"
      ]
    },
    {
      "cell_type": "code",
      "execution_count": null,
      "metadata": {
        "id": "HH3EB6NcqXzz"
      },
      "outputs": [],
      "source": [
        "#from sklearn.model_selection import GridSearchCV\n",
        "#clf = GridSearchCV(knn, hyperparameters, cv=2)\n"
      ]
    },
    {
      "cell_type": "code",
      "execution_count": null,
      "metadata": {
        "id": "swH6ZsE3rKAY"
      },
      "outputs": [],
      "source": [
        "#best_model=model\n",
        "#print('Best leaf_size:', best_model.best_estimator_.get_params()['leaf_size'])\n",
        "#print('Best p:', best_model.best_estimator_.get_params()['p'])\n",
        "#print('Best n_neighbors:', best_model.best_estimator_.get_params()['n_neighbors'])\n"
      ]
    },
    {
      "cell_type": "code",
      "execution_count": null,
      "metadata": {
        "id": "AjzDJkNxviYp"
      },
      "outputs": [],
      "source": [
        "#y_train_pred = clf.predict(sample_train_x_1)\n",
        "#y_test_pred = clf.predict(test_data)\n"
      ]
    },
    {
      "cell_type": "code",
      "execution_count": null,
      "metadata": {
        "id": "nZbpTIdmvlfl"
      },
      "outputs": [],
      "source": [
        "#from sklearn.metrics import confusion_matrix, accuracy_score\n",
        "#print(accuracy_score(y_train, y_train_pred))\n",
        "#confusion_matrix(y_train, y_train_pred)\n"
      ]
    },
    {
      "cell_type": "markdown",
      "metadata": {
        "id": "2x4I5nlkkSM4"
      },
      "source": [
        "3. After understanding the feature importance and visualizing the data (Sweetviz file) I could see that there were outliers present in the data. For example, the Glucose level for 25 patients was reported as 1276103.0 which is higher than the normal range(most probably outliers). So, I tried to remove the outliers from the features, and choose important features, subsampled the data, and built classifiers using the data set. In the test data, the same set of features was used for predicting, and NA’s were filled with their mean values.\n",
        "\n"
      ]
    },
    {
      "cell_type": "code",
      "execution_count": 27,
      "metadata": {
        "id": "_w9cAk8mkbfn"
      },
      "outputs": [],
      "source": [
        "train_x_3=train_x"
      ]
    },
    {
      "cell_type": "code",
      "execution_count": null,
      "metadata": {
        "id": "Vlmryze1ot0e"
      },
      "outputs": [],
      "source": [
        "#Don't run for trial\n",
        "#train_x_3.columns = [c.replace(' ', '_') for c in train_x_3.columns]\n"
      ]
    },
    {
      "cell_type": "code",
      "execution_count": null,
      "metadata": {
        "id": "XJolSJc_rHBR"
      },
      "outputs": [],
      "source": [
        "#train_x_3.columns"
      ]
    },
    {
      "cell_type": "code",
      "execution_count": 28,
      "metadata": {
        "id": "-WkjT9WHkj_Z",
        "colab": {
          "base_uri": "https://localhost:8080/"
        },
        "outputId": "282b9bc5-9bd0-4375-8490-0854eb7d1505"
      },
      "outputs": [
        {
          "output_type": "execute_result",
          "data": {
            "text/plain": [
              "(3696245, 43)"
            ]
          },
          "metadata": {},
          "execution_count": 28
        }
      ],
      "source": [
        "train_x_3.shape #(3696245, 43) should be this value initally"
      ]
    },
    {
      "cell_type": "code",
      "execution_count": 29,
      "metadata": {
        "id": "q56r-pG0kmX1"
      },
      "outputs": [],
      "source": [
        "sample_train_x_3=train_x_3[train_x_3.Age > 0] # dropping records were age is 0."
      ]
    },
    {
      "cell_type": "code",
      "execution_count": null,
      "metadata": {
        "id": "A8-ZZBqAmS67"
      },
      "outputs": [],
      "source": [
        "sample_train_x_3['Alanine Aminotransferase (ALT)'].fillna(value=22.0,inplace=True)\n"
      ]
    },
    {
      "cell_type": "code",
      "execution_count": 31,
      "metadata": {
        "id": "wsGYcAELsFGM"
      },
      "outputs": [],
      "source": [
        "sample_train_x_3=sample_train_x_3[sample_train_x_3['Alanine Aminotransferase (ALT)'] < 185 ] # dropping records were they have too high value of ALT.\n"
      ]
    },
    {
      "cell_type": "code",
      "execution_count": 32,
      "metadata": {
        "id": "zG88KRawweDJ"
      },
      "outputs": [],
      "source": [
        "sample_train_x_3['Anion Gap'].fillna(value=14.4,inplace=True)\n"
      ]
    },
    {
      "cell_type": "code",
      "execution_count": 33,
      "metadata": {
        "id": "QS-Ov6FGxQmf"
      },
      "outputs": [],
      "source": [
        "sample_train_x_3=sample_train_x_3[ (sample_train_x_3['Anion Gap'] > 10) & (sample_train_x_3['Anion Gap'] < 21) ] # data in range 10,21"
      ]
    },
    {
      "cell_type": "code",
      "execution_count": null,
      "metadata": {
        "id": "Uu7XUWsytXWT"
      },
      "outputs": [],
      "source": [
        "#sample_train_x_3.columns\n"
      ]
    },
    {
      "cell_type": "code",
      "execution_count": 34,
      "metadata": {
        "id": "92dngngwyVz9"
      },
      "outputs": [],
      "source": [
        "sample_train_x_3['Asparate Aminotransferase (AST)'].fillna(value=28.0,inplace=True)\n",
        "#sample_train_x_3['Asparate Aminotransferase (AST)'].isnull()"
      ]
    },
    {
      "cell_type": "code",
      "execution_count": 35,
      "metadata": {
        "id": "G40VMpZNy_HR"
      },
      "outputs": [],
      "source": [
        "sample_train_x_3=sample_train_x_3[ (sample_train_x_3['Asparate Aminotransferase (AST)'] > 4.0) & (sample_train_x_3['Asparate Aminotransferase (AST)'] < 217) ]"
      ]
    },
    {
      "cell_type": "code",
      "execution_count": 36,
      "metadata": {
        "id": "ogcOiDK8LHhe"
      },
      "outputs": [],
      "source": [
        "sample_train_x_3['Base Excess'].fillna(value=0.0,inplace=True)\n"
      ]
    },
    {
      "cell_type": "code",
      "execution_count": 37,
      "metadata": {
        "id": "gRF8XMrmLXGn"
      },
      "outputs": [],
      "source": [
        "sample_train_x_3=sample_train_x_3[ (sample_train_x_3['Base Excess'] >= -2 ) & (sample_train_x_3['Base Excess'] <= 2) ]"
      ]
    },
    {
      "cell_type": "code",
      "execution_count": 38,
      "metadata": {
        "id": "KNjwjTHVzYOI"
      },
      "outputs": [],
      "source": [
        "sample_train_x_3['Bicarbonate'].fillna(value=24.8,inplace=True)\n"
      ]
    },
    {
      "cell_type": "code",
      "execution_count": 39,
      "metadata": {
        "id": "dJOLzFCvz28h"
      },
      "outputs": [],
      "source": [
        "sample_train_x_3['Bilirubin, Total'].fillna(value=1.3,inplace=True)\n"
      ]
    },
    {
      "cell_type": "code",
      "execution_count": 40,
      "metadata": {
        "id": "2qfW3aoU0B2e"
      },
      "outputs": [],
      "source": [
        "sample_train_x_3=sample_train_x_3[ (sample_train_x_3['Bilirubin, Total'] > 0) & (sample_train_x_3['Bilirubin, Total'] < 7.9) ]"
      ]
    },
    {
      "cell_type": "code",
      "execution_count": null,
      "metadata": {
        "id": "TFQeAP40lHZA"
      },
      "outputs": [],
      "source": [
        "#sample_train_x_3.head(5)\n",
        "#sample_train_x_3.shape#(3529184, 43),(3448646, 43)\n",
        "\n"
      ]
    },
    {
      "cell_type": "code",
      "execution_count": 41,
      "metadata": {
        "id": "lHrLHuMa3ALQ"
      },
      "outputs": [],
      "source": [
        "sample_train_x_3['Calcium, Total'].fillna(value=8.8,inplace=True)\n"
      ]
    },
    {
      "cell_type": "code",
      "execution_count": 42,
      "metadata": {
        "id": "9DJPCESc4A0T"
      },
      "outputs": [],
      "source": [
        "sample_train_x_3=sample_train_x_3[(sample_train_x_3['Calcium, Total'] < 10.5 )]"
      ]
    },
    {
      "cell_type": "code",
      "execution_count": 43,
      "metadata": {
        "id": "Vg8uBvKL4nF8"
      },
      "outputs": [],
      "source": [
        "sample_train_x_3['Calculated Total CO2'].fillna(value=26,inplace=True)\n"
      ]
    },
    {
      "cell_type": "code",
      "execution_count": 44,
      "metadata": {
        "id": "NUm3sSAG4i_W"
      },
      "outputs": [],
      "source": [
        "sample_train_x_3=sample_train_x_3[(sample_train_x_3['Calculated Total CO2'] < 27 ) & (sample_train_x_3['Calculated Total CO2'] > 17 )]"
      ]
    },
    {
      "cell_type": "code",
      "execution_count": 45,
      "metadata": {
        "id": "8cVRJzzD5Et1"
      },
      "outputs": [],
      "source": [
        "sample_train_x_3['Chloride'].fillna(value=102.3,inplace=True)\n"
      ]
    },
    {
      "cell_type": "code",
      "execution_count": 46,
      "metadata": {
        "id": "XzisV2mO5UXW"
      },
      "outputs": [],
      "source": [
        "sample_train_x_3=sample_train_x_3[(sample_train_x_3['Chloride'] < 111 ) & (sample_train_x_3['Chloride'] > 93 )]"
      ]
    },
    {
      "cell_type": "code",
      "execution_count": 47,
      "metadata": {
        "id": "i4CEDHDu5sxh"
      },
      "outputs": [],
      "source": [
        "sample_train_x_3['Creatinine'].fillna(value=1.0,inplace=True)\n"
      ]
    },
    {
      "cell_type": "code",
      "execution_count": 48,
      "metadata": {
        "id": "oSFGp-Dd6Kan"
      },
      "outputs": [],
      "source": [
        "sample_train_x_3=sample_train_x_3[(sample_train_x_3['Creatinine'] < 4.0 ) & (sample_train_x_3['Creatinine'] > 0.5 )]"
      ]
    },
    {
      "cell_type": "code",
      "execution_count": 49,
      "metadata": {
        "id": "fv3bWzD46l_4"
      },
      "outputs": [],
      "source": [
        "sample_train_x_3['Glucose'].fillna(value=90,inplace=True)"
      ]
    },
    {
      "cell_type": "code",
      "execution_count": 50,
      "metadata": {
        "id": "hiid9Vt97Huq"
      },
      "outputs": [],
      "source": [
        "sample_train_x_3=sample_train_x_3[(sample_train_x_3['Glucose'] <= 100 ) & (sample_train_x_3['Glucose'] > 50 )]"
      ]
    },
    {
      "cell_type": "code",
      "execution_count": 51,
      "metadata": {
        "id": "dBqdAwzr7hsW"
      },
      "outputs": [],
      "source": [
        "sample_train_x_3['H'].fillna(value=28.0,inplace=True)"
      ]
    },
    {
      "cell_type": "code",
      "execution_count": 52,
      "metadata": {
        "id": "jcddjsgf8D3k"
      },
      "outputs": [],
      "source": [
        "sample_train_x_3=sample_train_x_3[(sample_train_x_3['H'] <= 124 )]"
      ]
    },
    {
      "cell_type": "code",
      "execution_count": 53,
      "metadata": {
        "id": "QWYTgNko8XB7"
      },
      "outputs": [],
      "source": [
        "sample_train_x_3['Hematocrit'].fillna(value=33.9,inplace=True)"
      ]
    },
    {
      "cell_type": "code",
      "execution_count": 54,
      "metadata": {
        "id": "xf_sYp_T8lRI"
      },
      "outputs": [],
      "source": [
        "sample_train_x_3=sample_train_x_3[(sample_train_x_3['Hematocrit'] < 60 ) & (sample_train_x_3['Hematocrit'] > 30 )]"
      ]
    },
    {
      "cell_type": "code",
      "execution_count": 55,
      "metadata": {
        "id": "pUZfPoul9BLJ"
      },
      "outputs": [],
      "source": [
        "sample_train_x_3['Hemoglobin'].fillna(value=11.3,inplace=True)"
      ]
    },
    {
      "cell_type": "code",
      "execution_count": 56,
      "metadata": {
        "id": "I2vk-OoJ9eio"
      },
      "outputs": [],
      "source": [
        "sample_train_x_3=sample_train_x_3[(sample_train_x_3['Hemoglobin'] < 18 ) & (sample_train_x_3['Hemoglobin'] > 10 )]"
      ]
    },
    {
      "cell_type": "code",
      "execution_count": 57,
      "metadata": {
        "id": "q4wbJgtF9uMr"
      },
      "outputs": [],
      "source": [
        "sample_train_x_3['I'].fillna(value=1.6,inplace=True)"
      ]
    },
    {
      "cell_type": "code",
      "execution_count": 58,
      "metadata": {
        "id": "jPHt6Z8z-LLm"
      },
      "outputs": [],
      "source": [
        "sample_train_x_3=sample_train_x_3[(sample_train_x_3['I'] < 7 )]"
      ]
    },
    {
      "cell_type": "code",
      "execution_count": 59,
      "metadata": {
        "id": "aIT7ZQyn-pIT"
      },
      "outputs": [],
      "source": [
        "sample_train_x_3['INR(PT)'].fillna(value=1.1,inplace=True)"
      ]
    },
    {
      "cell_type": "code",
      "execution_count": 60,
      "metadata": {
        "id": "afJBOfBO-uZK"
      },
      "outputs": [],
      "source": [
        "sample_train_x_3=sample_train_x_3[(sample_train_x_3['INR(PT)'] < 3.0 )]"
      ]
    },
    {
      "cell_type": "code",
      "execution_count": 61,
      "metadata": {
        "id": "x7y0sBEu-7FA"
      },
      "outputs": [],
      "source": [
        "# not taking L into account \n",
        "#sample_train_x_3.drop(labels='L',axis=1,inplace=True)\n",
        "sample_train_x_3.drop(labels='Alkaline Phosphatase',axis=1,inplace=True)\n"
      ]
    },
    {
      "cell_type": "code",
      "execution_count": 62,
      "metadata": {
        "id": "F72KDwgKAC0I"
      },
      "outputs": [],
      "source": [
        "sample_train_x_3['MCH'].fillna(value=30.3,inplace=True)"
      ]
    },
    {
      "cell_type": "code",
      "execution_count": 63,
      "metadata": {
        "id": "y04cPKw9AJ_1"
      },
      "outputs": [],
      "source": [
        "sample_train_x_3=sample_train_x_3[(sample_train_x_3['MCH'] < 35 ) & (sample_train_x_3['MCH'] > 25 )]"
      ]
    },
    {
      "cell_type": "code",
      "execution_count": 64,
      "metadata": {
        "id": "97H_zSejAmUX"
      },
      "outputs": [],
      "source": [
        "sample_train_x_3['MCHC'].fillna(value=32.7,inplace=True)"
      ]
    },
    {
      "cell_type": "code",
      "execution_count": 65,
      "metadata": {
        "id": "bH9_Efo2A2dE"
      },
      "outputs": [],
      "source": [
        "sample_train_x_3=sample_train_x_3[(sample_train_x_3['MCHC'] < 36 ) & (sample_train_x_3['MCHC'] > 30 )]"
      ]
    },
    {
      "cell_type": "code",
      "execution_count": 66,
      "metadata": {
        "id": "JC6MRupsBESj"
      },
      "outputs": [],
      "source": [
        "sample_train_x_3['MCV'].fillna(value=91,inplace=True)"
      ]
    },
    {
      "cell_type": "code",
      "execution_count": 67,
      "metadata": {
        "id": "DG0R3U5nBXfQ"
      },
      "outputs": [],
      "source": [
        "sample_train_x_3=sample_train_x_3[(sample_train_x_3['MCV'] < 105 ) & (sample_train_x_3['MCV'] > 75 )]"
      ]
    },
    {
      "cell_type": "code",
      "execution_count": 68,
      "metadata": {
        "id": "Zb5lMBO1BizP"
      },
      "outputs": [],
      "source": [
        "sample_train_x_3['Magnesium'].fillna(value=1.9,inplace=True)"
      ]
    },
    {
      "cell_type": "code",
      "execution_count": 69,
      "metadata": {
        "id": "8ls9wA3xBzSx"
      },
      "outputs": [],
      "source": [
        "sample_train_x_3=sample_train_x_3[(sample_train_x_3['Magnesium'] <= 2.5 ) & (sample_train_x_3['Magnesium'] >= 1.5 )]"
      ]
    },
    {
      "cell_type": "code",
      "execution_count": 70,
      "metadata": {
        "id": "6OZ1gSDnCJ9m"
      },
      "outputs": [],
      "source": [
        "sample_train_x_3['PT'].fillna(value=13,inplace=True)"
      ]
    },
    {
      "cell_type": "code",
      "execution_count": 71,
      "metadata": {
        "id": "6vTUkAJuCVeZ"
      },
      "outputs": [],
      "source": [
        "sample_train_x_3=sample_train_x_3[(sample_train_x_3['PT'] <= 33 ) & (sample_train_x_3['PT'] >= 10 )]"
      ]
    },
    {
      "cell_type": "code",
      "execution_count": 72,
      "metadata": {
        "id": "9hrRIIIHCrVp"
      },
      "outputs": [],
      "source": [
        "sample_train_x_3['PTT'].fillna(value=31,inplace=True)"
      ]
    },
    {
      "cell_type": "code",
      "execution_count": 73,
      "metadata": {
        "id": "RZWlKqBcDE2c"
      },
      "outputs": [],
      "source": [
        "sample_train_x_3=sample_train_x_3[(sample_train_x_3['PTT'] <= 61 )]"
      ]
    },
    {
      "cell_type": "code",
      "execution_count": 74,
      "metadata": {
        "id": "I9r0opuXDMzD"
      },
      "outputs": [],
      "source": [
        "sample_train_x_3['Phosphate'].fillna(value=3.4,inplace=True)"
      ]
    },
    {
      "cell_type": "code",
      "execution_count": 75,
      "metadata": {
        "id": "1IVbeMxvDbVx"
      },
      "outputs": [],
      "source": [
        "sample_train_x_3=sample_train_x_3[(sample_train_x_3['Phosphate'] <= 5.6 )]"
      ]
    },
    {
      "cell_type": "code",
      "execution_count": 76,
      "metadata": {
        "id": "3tr21rPzDhOK"
      },
      "outputs": [],
      "source": [
        "sample_train_x_3['Platelet Count'].fillna(value=186,inplace=True)"
      ]
    },
    {
      "cell_type": "code",
      "execution_count": 77,
      "metadata": {
        "id": "6qyzZfX7D4Cd"
      },
      "outputs": [],
      "source": [
        "sample_train_x_3=sample_train_x_3[(sample_train_x_3['Platelet Count'] <= 423 )]"
      ]
    },
    {
      "cell_type": "code",
      "execution_count": 78,
      "metadata": {
        "id": "6QMPfH9zEaWB"
      },
      "outputs": [],
      "source": [
        "sample_train_x_3['Potassium'].fillna(value=4.1,inplace=True)"
      ]
    },
    {
      "cell_type": "code",
      "execution_count": 79,
      "metadata": {
        "id": "46kMOk0OEteg"
      },
      "outputs": [],
      "source": [
        "sample_train_x_3=sample_train_x_3[(sample_train_x_3['Potassium'] <= 5.2 ) & (sample_train_x_3['Potassium'] <= 3.3 )]"
      ]
    },
    {
      "cell_type": "code",
      "execution_count": null,
      "metadata": {
        "id": "SbIWVhv_Gil2"
      },
      "outputs": [],
      "source": [
        "sample_train_x_3=convert(sample_train_x_3)\n",
        "sample_train_x_3=sample_train_x_3.iloc[:,0:33]"
      ]
    },
    {
      "cell_type": "code",
      "source": [
        "sample_train_x_3.info()\n"
      ],
      "metadata": {
        "id": "94wKHmPey4Qr"
      },
      "execution_count": null,
      "outputs": []
    },
    {
      "cell_type": "code",
      "execution_count": null,
      "metadata": {
        "id": "Ymu2auoZJQmy"
      },
      "outputs": [],
      "source": [
        "#sample_train_x_3[sample_train_x_3.isna()]\n",
        "sns.heatmap(sample_train_x_3.isnull(),yticklabels=False,cbar=False,cmap='viridis')\n"
      ]
    },
    {
      "cell_type": "code",
      "execution_count": 92,
      "metadata": {
        "id": "h4WS3Ok-GYLv"
      },
      "outputs": [],
      "source": [
        "sample_train_y_3=train_y.iloc[sample_train_x_3.index]"
      ]
    },
    {
      "cell_type": "code",
      "execution_count": null,
      "metadata": {
        "id": "_VLFfP4gJGYp"
      },
      "outputs": [],
      "source": [
        "sample_train_x_3[sample_train_x_3.isnull()]"
      ]
    },
    {
      "cell_type": "code",
      "source": [
        "new_test_data.isnull()"
      ],
      "metadata": {
        "id": "1BVhIk7Sy_yI"
      },
      "execution_count": null,
      "outputs": []
    },
    {
      "cell_type": "markdown",
      "source": [
        "From sklearn package Tried RFECV recursive feature elimination, the external estimator that assigns weights to features, the goal of recursive feature elimination (RFE) is to select features by recursively considering smaller and smaller sets of features. First, the estimator is trained on the initial set of features and the importance of each feature is obtained either through any specific attribute or callable. Then, the least important features are pruned from the current set of features. That procedure is recursively repeated on the pruned set until the desired number of features to select is eventually reached.\n"
      ],
      "metadata": {
        "id": "NkFnsSvsx2K_"
      }
    },
    {
      "cell_type": "code",
      "execution_count": 81,
      "metadata": {
        "id": "XxQPpieVFPKu"
      },
      "outputs": [],
      "source": [
        "from sklearn.feature_selection import RFECV\n",
        "from sklearn.ensemble import RandomForestClassifier"
      ]
    },
    {
      "cell_type": "code",
      "execution_count": 84,
      "metadata": {
        "id": "FcIE8ym0FzQn"
      },
      "outputs": [],
      "source": [
        "model=RFECV(RandomForestClassifier(),scoring='accuracy')"
      ]
    },
    {
      "cell_type": "markdown",
      "source": [
        "Commenting the predict part so that i doesn't run automatically"
      ],
      "metadata": {
        "id": "BU-eNOntzwiT"
      }
    },
    {
      "cell_type": "code",
      "execution_count": null,
      "metadata": {
        "id": "qyLHsoqzGSqP"
      },
      "outputs": [],
      "source": [
        "#model.fit(sample_train_x_3,sample_train_y_3)"
      ]
    },
    {
      "cell_type": "code",
      "execution_count": 82,
      "metadata": {
        "id": "5Nzki_kOQBML"
      },
      "outputs": [],
      "source": [
        "col=['Condition_importance', 'Admission_type', 'Marital_status', 'Ethnicity','Hospital_death_flag', 'Gender', 'Age','Alanine Aminotransferase (ALT)', 'Anion Gap','Asparate Aminotransferase (AST)', 'Base Excess', 'Bicarbonate','Bilirubin, Total', 'Calcium, Total', 'Calculated Total CO2','Chloride', 'Creatinine', 'Glucose', 'H', 'Hematocrit', 'Hemoglobin','I', 'INR(PT)', 'MCH', 'MCHC', 'MCV', 'Magnesium', 'PT', 'PTT','Phosphate', 'Platelet Count', 'Potassium']"
      ]
    },
    {
      "cell_type": "code",
      "execution_count": 83,
      "metadata": {
        "id": "J-sj_T7JPWGo"
      },
      "outputs": [],
      "source": [
        "new_test_data=test_data[col]\n",
        "#result_REECV.shape"
      ]
    },
    {
      "cell_type": "code",
      "execution_count": null,
      "metadata": {
        "id": "LAexkIh-OHVk"
      },
      "outputs": [],
      "source": [
        "#result_REECV=model.predict(new_test_data)"
      ]
    },
    {
      "cell_type": "code",
      "execution_count": null,
      "metadata": {
        "id": "ba7xlZOkQzHJ"
      },
      "outputs": [],
      "source": [
        "#save_result(result_REECV,'RFECV_model_result')"
      ]
    },
    {
      "cell_type": "markdown",
      "metadata": {
        "id": "nitPLuvblkTV"
      },
      "source": [
        "4.Since some of the features in the data set had extreme values and their distribution was skewed, Scikit-learn’s robust scaler and transform functions were used to remove outliers and to normalize the later set of features that helped to preserve the shape of the dataset (no distortion). I selected some important features, subsampled the data, and built classifiers on them. Similarly, the test data was also normalized.\n"
      ]
    },
    {
      "cell_type": "code",
      "execution_count": 16,
      "metadata": {
        "id": "8dRO8oKGlmg3"
      },
      "outputs": [],
      "source": [
        "#columns=['Condition_importance', 'Admission_type', 'Marital_status', 'Ethnicity','Hospital_death_flag', 'Gender', 'Age','Alanine Aminotransferase (ALT)', 'Alkaline Phosphatase', 'Anion Gap','Bicarbonate','Bilirubin, Total', 'Calcium, Total','Chloride', 'Glucose', 'H', 'Hematocrit','INR(PT)', 'L', 'MCH', 'MCHC', 'Magnesium', 'PTT','Phosphate', 'Platelet Count', 'Potassium', 'RDW', 'RDW-SD', 'Sodium', 'Urea Nitrogen', 'White Blood Cells','pH', 'pO2']\n",
        "train_x_data=train_x_1#for_train_x[columns]"
      ]
    },
    {
      "cell_type": "code",
      "execution_count": 100,
      "metadata": {
        "id": "Y42ZM6e0s-XO"
      },
      "outputs": [],
      "source": [
        "#column_test=['Condition_importance', 'Admission_type', 'Marital_status', 'Ethnicity','Hospital_death_flag', 'Gender', 'Age','Alanine Aminotransferase (ALT)', 'Alkaline Phosphatase', 'Anion Gap','Bicarbonate','Bilirubin, Total', 'Calcium, Total','Chloride', 'Glucose', 'H', 'Hematocrit','INR(PT)', 'L', 'MCH', 'MCHC', 'Magnesium', 'PTT','Phosphate', 'Platelet Count', 'Potassium', 'RDW', 'RDW-SD', 'Sodium', 'Urea Nitrogen', 'White Blood Cells','pH', 'pO2']\n",
        "#test_data=test_data#[column_test]"
      ]
    },
    {
      "cell_type": "code",
      "execution_count": null,
      "metadata": {
        "id": "M5H_NrknoceQ"
      },
      "outputs": [],
      "source": [
        "#train_x_data.info()\n",
        "#test_data.info()\n",
        "sns.heatmap(train_x_data.isnull(),yticklabels=False,cbar=False,cmap='viridis')\n"
      ]
    },
    {
      "cell_type": "code",
      "execution_count": null,
      "metadata": {
        "id": "Ih8PhKUf7qZL"
      },
      "outputs": [],
      "source": [
        "#sampled_train_x_data=train_x_data[0:3696245:60]\n",
        "#sample_train_x_2=train_x_new[0:3456696:40] # X_train_2"
      ]
    },
    {
      "cell_type": "code",
      "execution_count": null,
      "metadata": {
        "id": "r6c9oX7Y7qZL"
      },
      "outputs": [],
      "source": [
        "#sample_train_y=train_y.iloc[sampled_train_x_data.index]"
      ]
    },
    {
      "cell_type": "code",
      "execution_count": 17,
      "metadata": {
        "id": "cPFxfldboed5"
      },
      "outputs": [],
      "source": [
        "column_names=[]\n",
        "for col_name in train_x_data.columns: \n",
        "    column_names.append(col_name)"
      ]
    },
    {
      "cell_type": "code",
      "execution_count": null,
      "metadata": {
        "collapsed": true,
        "id": "s7wcoi9pp3PD"
      },
      "outputs": [],
      "source": [
        "column_names"
      ]
    },
    {
      "cell_type": "code",
      "execution_count": 18,
      "metadata": {
        "id": "fp7SN-lNo6rj"
      },
      "outputs": [],
      "source": [
        "column_names.remove('Condition_importance')\n",
        "column_names.remove('Admission_type')\n",
        "column_names.remove('Gender')\n",
        "column_names.remove('Marital_status')\n",
        "column_names.remove('Ethnicity')\n",
        "column_names.remove('Hospital_death_flag')\n",
        "column_names.remove('Age')"
      ]
    },
    {
      "cell_type": "code",
      "execution_count": 19,
      "metadata": {
        "id": "YPSsscCeo-qg"
      },
      "outputs": [],
      "source": [
        "for col in column_names:\n",
        "  train_x_data[col].fillna(value=train_x_data[col].mean(),inplace=True)"
      ]
    },
    {
      "cell_type": "markdown",
      "metadata": {
        "id": "4s7hv4wltgmN"
      },
      "source": [
        "Filling NA's in test data with their respective mean."
      ]
    },
    {
      "cell_type": "code",
      "execution_count": 20,
      "metadata": {
        "id": "eSOE5i6ntaaa"
      },
      "outputs": [],
      "source": [
        "column_names=[]\n",
        "for col_name in test_data.columns: \n",
        "    column_names.append(col_name)"
      ]
    },
    {
      "cell_type": "code",
      "execution_count": 21,
      "metadata": {
        "id": "eBttnhVwtmOA"
      },
      "outputs": [],
      "source": [
        "column_names.remove('Condition_importance')\n",
        "column_names.remove('Admission_type')\n",
        "column_names.remove('Gender')\n",
        "column_names.remove('Marital_status')\n",
        "column_names.remove('Ethnicity')\n",
        "column_names.remove('Hospital_death_flag')\n",
        "column_names.remove('Age')"
      ]
    },
    {
      "cell_type": "code",
      "execution_count": 22,
      "metadata": {
        "id": "PiU8ZQpjtoXY"
      },
      "outputs": [],
      "source": [
        "for col in column_names:\n",
        "  test_data[col].fillna(value=test_data[col].mean(),inplace=True)"
      ]
    },
    {
      "cell_type": "markdown",
      "source": [
        "Scikit-learn’s robust scaler and transform functions were used to remove outliers and to normalize the later set of features that helped to preserve the shape of the dataset (no distortion)"
      ],
      "metadata": {
        "id": "kpdMbCMz1ahg"
      }
    },
    {
      "cell_type": "code",
      "execution_count": 23,
      "metadata": {
        "id": "uE81ajP57qZM"
      },
      "outputs": [],
      "source": [
        "from sklearn.preprocessing import MinMaxScaler\n",
        "scaler = MinMaxScaler()\n",
        "scaled_train_x_train = scaler.fit_transform(train_x_data)\n",
        "scaled_test_data = scaler.fit_transform(test_data)\n"
      ]
    },
    {
      "cell_type": "code",
      "execution_count": 24,
      "metadata": {
        "id": "mPvsC2FR7qZM"
      },
      "outputs": [],
      "source": [
        "column_names_scaled=[]\n",
        "for col_name in train_x_data.columns: \n",
        "    column_names_scaled.append(col_name)"
      ]
    },
    {
      "cell_type": "code",
      "execution_count": null,
      "metadata": {
        "collapsed": true,
        "id": "7RziriIJ7qZM",
        "outputId": "8ef6b634-c51d-496e-a5b9-8c785e2a7ca6"
      },
      "outputs": [
        {
          "ename": "AttributeError",
          "evalue": "'list' object has no attribute 'shape'",
          "output_type": "error",
          "traceback": [
            "\u001b[0;31m---------------------------------------------------------------------------\u001b[0m",
            "\u001b[0;31mAttributeError\u001b[0m                            Traceback (most recent call last)",
            "\u001b[0;32m/var/folders/1r/cmhdr_9j5f93n9xx2wzfdp8c0000gn/T/ipykernel_70576/885526357.py\u001b[0m in \u001b[0;36m<module>\u001b[0;34m\u001b[0m\n\u001b[0;32m----> 1\u001b[0;31m \u001b[0mcolumn_names_scaled\u001b[0m\u001b[0;34m.\u001b[0m\u001b[0mshape\u001b[0m\u001b[0;34m\u001b[0m\u001b[0;34m\u001b[0m\u001b[0m\n\u001b[0m",
            "\u001b[0;31mAttributeError\u001b[0m: 'list' object has no attribute 'shape'"
          ]
        }
      ],
      "source": [
        "column_names_scaled"
      ]
    },
    {
      "cell_type": "markdown",
      "source": [
        "Converting the Scaled Train and Test Data to Data frames"
      ],
      "metadata": {
        "id": "eyqdsUUk2G5I"
      }
    },
    {
      "cell_type": "code",
      "execution_count": 25,
      "metadata": {
        "id": "CZSCvSe-7qZM"
      },
      "outputs": [],
      "source": [
        "scaled_train_x_train=pd.DataFrame(data=scaled_train_x_train,columns=column_names_scaled)"
      ]
    },
    {
      "cell_type": "code",
      "execution_count": 26,
      "metadata": {
        "id": "rQlqVVem7qZM"
      },
      "outputs": [],
      "source": [
        "scaled_test_data=pd.DataFrame(data=scaled_test_data,columns=column_names_scaled)"
      ]
    },
    {
      "cell_type": "code",
      "execution_count": null,
      "metadata": {
        "id": "VN37ajcU7qZM"
      },
      "outputs": [],
      "source": [
        "scaled_train_x_train.shape\n",
        "#scaled_test_data.shape"
      ]
    },
    {
      "cell_type": "markdown",
      "source": [
        "Splitting the dataset using Sklearn's Train test Split package"
      ],
      "metadata": {
        "id": "_gt7i1rJ2XY_"
      }
    },
    {
      "cell_type": "code",
      "execution_count": 27,
      "metadata": {
        "id": "sMwB2QQYt2H-"
      },
      "outputs": [],
      "source": [
        "from sklearn.model_selection import train_test_split\n",
        "X_train, X_test, y_train, y_test = train_test_split(scaled_train_x_train, train_y, random_state=40,test_size=0.35)\n",
        "#X_train, X_test, y_train, y_test = train_test_split(x_pca, train_y, random_state=40,test_size=0.30)\n"
      ]
    },
    {
      "cell_type": "code",
      "execution_count": null,
      "metadata": {
        "colab": {
          "base_uri": "https://localhost:8080/"
        },
        "id": "BggJaWU57qZN",
        "outputId": "ecf38100-4247-4834-dc52-51bbeb5c7b8e"
      },
      "outputs": [
        {
          "data": {
            "text/plain": [
              "(3696245, 1)"
            ]
          },
          "execution_count": 36,
          "metadata": {},
          "output_type": "execute_result"
        }
      ],
      "source": [
        "#X_train.shape\n",
        "#y_train.shape #(2402559, 1)\n",
        "#y_test.shape  #(1293686, 1)\n",
        "train_y.shape  #(3696245, 1)\n"
      ]
    },
    {
      "cell_type": "code",
      "execution_count": null,
      "metadata": {
        "id": "uwta_Lbj7qZN"
      },
      "outputs": [],
      "source": [
        "#from sklearn.preprocessing import StandardScaler\n",
        "#scaler=StandardScaler()\n",
        "#scaler.fit(train_x_data)"
      ]
    },
    {
      "cell_type": "code",
      "execution_count": null,
      "metadata": {
        "id": "nlL-hqzP7qZN"
      },
      "outputs": [],
      "source": [
        "#scaled_X_train_data=scaler.transform(train_x_data)"
      ]
    },
    {
      "cell_type": "code",
      "execution_count": null,
      "metadata": {
        "id": "fBdAhGx07qZN"
      },
      "outputs": [],
      "source": [
        "#scaled_X_train_data.shape"
      ]
    },
    {
      "cell_type": "code",
      "execution_count": null,
      "metadata": {
        "colab": {
          "base_uri": "https://localhost:8080/"
        },
        "id": "1th297Zl03OW",
        "outputId": "9c855d9b-bef0-4e84-f2ee-c392e2c98a75"
      },
      "outputs": [
        {
          "name": "stdout",
          "output_type": "stream",
          "text": [
            "Accuracy of Decision Tree classifier on training set: 0.94\n",
            "Accuracy of Decision Tree classifier on test set: 0.20\n"
          ]
        }
      ],
      "source": [
        "from sklearn.tree import DecisionTreeClassifier\n",
        "#clf = DecisionTreeClassifier().fit(X_train, y_train)\n",
        "print('Accuracy of Decision Tree classifier on training set: {:.2f}'\n",
        "     .format(clf.score(X_train, y_train)))\n",
        "print('Accuracy of Decision Tree classifier on test set: {:.2f}'\n",
        "     .format(clf.score(X_test, y_test)))\n"
      ]
    },
    {
      "cell_type": "code",
      "execution_count": null,
      "metadata": {
        "id": "8iEZMzGkvJPs"
      },
      "outputs": [],
      "source": [
        "from sklearn.neighbors import KNeighborsClassifier\n",
        "knn = KNeighborsClassifier()\n",
        "#knn.fit(X_train, y_train)\n",
        "print('Accuracy of K-NN classifier on training set: {:.2f}'\n",
        "     .format(knn.score(X_train, y_train)))\n",
        "print('Accuracy of K-NN classifier on test set: {:.2f}'\n",
        "     .format(knn.score(X_test, y_test)))"
      ]
    },
    {
      "cell_type": "code",
      "execution_count": null,
      "metadata": {
        "id": "2JD1M__WvZji"
      },
      "outputs": [],
      "source": [
        "from sklearn.metrics import classification_report\n",
        "from sklearn.metrics import confusion_matrix\n",
        "#pred = clf.predict(X_test)\n",
        "#pred = knn.predict(X_test)\n",
        "print(confusion_matrix(y_test, pred))\n",
        "print(classification_report(y_test, pred))\n"
      ]
    },
    {
      "cell_type": "code",
      "execution_count": null,
      "metadata": {
        "id": "Ntypz9a511vq"
      },
      "outputs": [],
      "source": [
        "predict_result=knn.predict(test_data)"
      ]
    },
    {
      "cell_type": "code",
      "execution_count": null,
      "metadata": {
        "id": "TmB51PBe2JyL"
      },
      "outputs": [],
      "source": [
        "predict_result.shape"
      ]
    },
    {
      "cell_type": "code",
      "execution_count": null,
      "metadata": {
        "id": "ZtDN3QrX2UNB"
      },
      "outputs": [],
      "source": [
        "save_result(predict_result,'Modified_DTC')"
      ]
    },
    {
      "cell_type": "markdown",
      "source": [
        "From the sklearn package, I used the support vector machine module to build a SVC classifier, which had an accuracy of ~ 23%, however, it took around alot of time ~ 4+ hours to train the model.\n"
      ],
      "metadata": {
        "id": "s6uxgRif3_kR"
      }
    },
    {
      "cell_type": "code",
      "execution_count": null,
      "metadata": {
        "id": "ZYrC8W_r7qZP",
        "outputId": "8c53b2b1-1c85-4b79-ca6f-40f9ff54bcee",
        "scrolled": true
      },
      "outputs": [
        {
          "name": "stderr",
          "output_type": "stream",
          "text": [
            "/Library/Frameworks/Python.framework/Versions/3.9/lib/python3.9/site-packages/sklearn/utils/validation.py:985: DataConversionWarning: A column-vector y was passed when a 1d array was expected. Please change the shape of y to (n_samples, ), for example using ravel().\n",
            "  y = column_or_1d(y, warn=True)\n"
          ]
        }
      ],
      "source": [
        "from sklearn.svm import SVC\n",
        "svm = SVC(kernel = 'RBF')\n",
        "#svm.fit(X_train, y_train)\n",
        "print('Accuracy of SVM classifier on training set: {:.2f}'\n",
        "     .format(svm.score(X_train, y_train)))\n",
        "print('Accuracy of SVM classifier on test set: {:.2f}'\n",
        "     .format(svm.score(X_test, y_test)))"
      ]
    },
    {
      "cell_type": "code",
      "execution_count": null,
      "metadata": {
        "id": "CZ97NafM4kka"
      },
      "outputs": [],
      "source": [
        "predict_result=svm.predict(test_data)"
      ]
    },
    {
      "cell_type": "code",
      "execution_count": null,
      "metadata": {
        "id": "z2WAE6b64kkb"
      },
      "outputs": [],
      "source": [
        "save_result(predict_result,'result')"
      ]
    },
    {
      "cell_type": "markdown",
      "source": [
        "Tried Gaussian Naive Bayes on the data set."
      ],
      "metadata": {
        "id": "jAk4yek5DexU"
      }
    },
    {
      "cell_type": "code",
      "execution_count": null,
      "metadata": {
        "id": "faywll-D7qZP",
        "outputId": "e7aa294b-28a9-407c-a3ec-0617ce3fd4af"
      },
      "outputs": [
        {
          "name": "stderr",
          "output_type": "stream",
          "text": [
            "/Library/Frameworks/Python.framework/Versions/3.9/lib/python3.9/site-packages/sklearn/utils/validation.py:985: DataConversionWarning: A column-vector y was passed when a 1d array was expected. Please change the shape of y to (n_samples, ), for example using ravel().\n",
            "  y = column_or_1d(y, warn=True)\n"
          ]
        },
        {
          "name": "stdout",
          "output_type": "stream",
          "text": [
            "Accuracy of GNB classifier on training set: 0.14\n",
            "Accuracy of GNB classifier on test set: 0.14\n"
          ]
        }
      ],
      "source": [
        "from sklearn.naive_bayes import GaussianNB\n",
        "gnb = GaussianNB()\n",
        "#gnb.fit(X_train, y_train)\n",
        "print('Accuracy of GNB classifier on training set: {:.2f}'\n",
        "     .format(gnb.score(X_train, y_train)))\n",
        "print('Accuracy of GNB classifier on test set: {:.2f}'\n",
        "     .format(gnb.score(X_test, y_test)))"
      ]
    },
    {
      "cell_type": "markdown",
      "source": [
        "I did an experiment with sklearn’s unsupervised dimensionality reduction methods: PCA and Kbest feature selection method. I used the Kbest feature selection method and selected k (20)  best features where the chi score was maximum. A chi-square test is used in statistics to test the independence of two events. Selecting independent events will help us reduce redundancy in the features. For Predicting, top 20 features were used.\n",
        "\n"
      ],
      "metadata": {
        "id": "jxjzayOH5qFk"
      }
    },
    {
      "cell_type": "markdown",
      "source": [
        "PCA- Dimension Reduction."
      ],
      "metadata": {
        "id": "UnJOV1Yw6U69"
      }
    },
    {
      "cell_type": "code",
      "execution_count": null,
      "metadata": {
        "id": "RxO9fjgf7qZN"
      },
      "outputs": [],
      "source": [
        "from sklearn.decomposition import PCA"
      ]
    },
    {
      "cell_type": "code",
      "execution_count": null,
      "metadata": {
        "id": "RNdhvgB87qZN"
      },
      "outputs": [],
      "source": [
        "pca=PCA(n_components=5)"
      ]
    },
    {
      "cell_type": "code",
      "execution_count": null,
      "metadata": {
        "id": "LhULUQqv7qZO"
      },
      "outputs": [],
      "source": [
        "x_pca=pca.transform(scaled_X_train_data)"
      ]
    },
    {
      "cell_type": "code",
      "execution_count": null,
      "metadata": {
        "id": "I_mwZ1gh7qZO",
        "outputId": "68e1e0d1-39e0-40f4-a468-76ecd5e052c5"
      },
      "outputs": [
        {
          "data": {
            "text/plain": [
              "(3696245,)"
            ]
          },
          "execution_count": 107,
          "metadata": {},
          "output_type": "execute_result"
        }
      ],
      "source": [
        "x_pca[:,1].shape"
      ]
    },
    {
      "cell_type": "code",
      "execution_count": null,
      "metadata": {
        "collapsed": true,
        "id": "4x0lKtZU7qZO",
        "outputId": "357f6c3e-7d0c-4cb0-f38d-4e0a8c547424"
      },
      "outputs": [
        {
          "ename": "TypeError",
          "evalue": "scatter() got multiple values for argument 'c'",
          "output_type": "error",
          "traceback": [
            "\u001b[0;31m---------------------------------------------------------------------------\u001b[0m",
            "\u001b[0;31mTypeError\u001b[0m                                 Traceback (most recent call last)",
            "\u001b[0;32m/var/folders/1r/cmhdr_9j5f93n9xx2wzfdp8c0000gn/T/ipykernel_66981/1360293221.py\u001b[0m in \u001b[0;36m<module>\u001b[0;34m\u001b[0m\n\u001b[1;32m      1\u001b[0m \u001b[0mplt\u001b[0m\u001b[0;34m.\u001b[0m\u001b[0mfigure\u001b[0m\u001b[0;34m(\u001b[0m\u001b[0mfigsize\u001b[0m\u001b[0;34m=\u001b[0m\u001b[0;34m(\u001b[0m\u001b[0;36m8\u001b[0m\u001b[0;34m,\u001b[0m\u001b[0;36m6\u001b[0m\u001b[0;34m)\u001b[0m\u001b[0;34m)\u001b[0m\u001b[0;34m\u001b[0m\u001b[0;34m\u001b[0m\u001b[0m\n\u001b[1;32m      2\u001b[0m \u001b[0;31m#plt.scatter(x_pca[:,0],x_pca[:,1],x_pca[:,2],x_pca[:,3],x_pca[:,4],x_pca[:,5],x_pca[:,6],x_pca[:,7],x_pca[:,8],x_pca[:,9],x_pca[:,10],x_pca[:,11],x_pca[:,12],x_pca[:,13],x_pca[:,14],x_pca[:,15],x_pca[:,16],x_pca[:,17],x_pca[:,18])\u001b[0m\u001b[0;34m\u001b[0m\u001b[0;34m\u001b[0m\u001b[0;34m\u001b[0m\u001b[0m\n\u001b[0;32m----> 3\u001b[0;31m \u001b[0mplt\u001b[0m\u001b[0;34m.\u001b[0m\u001b[0mscatter\u001b[0m\u001b[0;34m(\u001b[0m\u001b[0mx_pca\u001b[0m\u001b[0;34m[\u001b[0m\u001b[0;34m:\u001b[0m\u001b[0;34m,\u001b[0m\u001b[0;36m0\u001b[0m\u001b[0;34m]\u001b[0m\u001b[0;34m,\u001b[0m\u001b[0mx_pca\u001b[0m\u001b[0;34m[\u001b[0m\u001b[0;34m:\u001b[0m\u001b[0;34m,\u001b[0m\u001b[0;36m1\u001b[0m\u001b[0;34m]\u001b[0m\u001b[0;34m,\u001b[0m\u001b[0mx_pca\u001b[0m\u001b[0;34m[\u001b[0m\u001b[0;34m:\u001b[0m\u001b[0;34m,\u001b[0m\u001b[0;36m2\u001b[0m\u001b[0;34m]\u001b[0m\u001b[0;34m,\u001b[0m\u001b[0mx_pca\u001b[0m\u001b[0;34m[\u001b[0m\u001b[0;34m:\u001b[0m\u001b[0;34m,\u001b[0m\u001b[0;36m3\u001b[0m\u001b[0;34m]\u001b[0m\u001b[0;34m,\u001b[0m\u001b[0mx_pca\u001b[0m\u001b[0;34m[\u001b[0m\u001b[0;34m:\u001b[0m\u001b[0;34m,\u001b[0m\u001b[0;36m4\u001b[0m\u001b[0;34m]\u001b[0m\u001b[0;34m,\u001b[0m\u001b[0mc\u001b[0m\u001b[0;34m=\u001b[0m\u001b[0mtrain_col_df\u001b[0m\u001b[0;34m.\u001b[0m\u001b[0miloc\u001b[0m\u001b[0;34m[\u001b[0m\u001b[0;36m0\u001b[0m\u001b[0;34m:\u001b[0m\u001b[0;36m5\u001b[0m\u001b[0;34m]\u001b[0m\u001b[0;34m)\u001b[0m\u001b[0;34m\u001b[0m\u001b[0;34m\u001b[0m\u001b[0m\n\u001b[0m",
            "\u001b[0;31mTypeError\u001b[0m: scatter() got multiple values for argument 'c'"
          ]
        },
        {
          "data": {
            "text/plain": [
              "<Figure size 576x432 with 0 Axes>"
            ]
          },
          "metadata": {},
          "output_type": "display_data"
        }
      ],
      "source": [
        "plt.figure(figsize=(8,6))\n",
        "#plt.scatter(x_pca[:,0],x_pca[:,1],x_pca[:,2],x_pca[:,3],x_pca[:,4],x_pca[:,5],x_pca[:,6],x_pca[:,7],x_pca[:,8],x_pca[:,9],x_pca[:,10],x_pca[:,11],x_pca[:,12],x_pca[:,13],x_pca[:,14],x_pca[:,15],x_pca[:,16],x_pca[:,17],x_pca[:,18])\n",
        "plt.scatter(x_pca[:,0],x_pca[:,1],x_pca[:,2],x_pca[:,3],x_pca[:,4],c=train_col_df.iloc[0:5])\n"
      ]
    },
    {
      "cell_type": "code",
      "execution_count": null,
      "metadata": {
        "id": "SfUc5dkX7qZN",
        "outputId": "2a3b5009-80aa-4e35-d160-f77476a1d9ac"
      },
      "outputs": [
        {
          "data": {
            "text/plain": [
              "PCA(n_components=5)"
            ]
          },
          "execution_count": 86,
          "metadata": {},
          "output_type": "execute_result"
        }
      ],
      "source": [
        "pca.fit(scaled_X_train_data)"
      ]
    },
    {
      "cell_type": "markdown",
      "source": [
        "From Sklearn package using selectKBest to choose the top 20 features"
      ],
      "metadata": {
        "id": "-JYssUDF6Znj"
      }
    },
    {
      "cell_type": "code",
      "execution_count": null,
      "metadata": {
        "id": "tBoSOjxx7qZP"
      },
      "outputs": [],
      "source": [
        "from sklearn.feature_selection import SelectKBest\n",
        "from sklearn.feature_selection import chi2\n",
        "\n",
        "#apply SelectKBest class to extract top 15 best features\n",
        "bestfeatures = SelectKBest(score_func=chi2, k=20)\n",
        "fit = bestfeatures.fit(scaled_train_x_train,train_y)\n",
        "dfscores = pd.DataFrame(fit.scores_)\n",
        "dfcolumns = pd.DataFrame(scaled_train_x_train.columns)\n",
        "#concat two dataframes for better visualization \n",
        "featureScores = pd.concat([dfcolumns,dfscores],axis=1)\n",
        "featureScores.columns = ['Features','Score']  #naming the dataframe columns\n",
        "print(featureScores.nlargest(20,'Score'))  #print 20 best features\n"
      ]
    },
    {
      "cell_type": "code",
      "source": [
        "#print(featureScores.nlargest(20,'Score'),index_label=['Feature Column Number'])  #print 20 best features\n"
      ],
      "metadata": {
        "id": "61EzMOFW7isB"
      },
      "execution_count": null,
      "outputs": []
    },
    {
      "cell_type": "code",
      "execution_count": 31,
      "metadata": {
        "id": "4Ufi89EA7qZP"
      },
      "outputs": [],
      "source": [
        "top_score_cols=featureScores.nlargest(20,'Score')['Specs']\n",
        "#top_score_cols"
      ]
    },
    {
      "cell_type": "code",
      "execution_count": 32,
      "metadata": {
        "id": "rkG5-fIp7qZP"
      },
      "outputs": [],
      "source": [
        "training_data=scaled_train_x_train[top_score_cols]"
      ]
    },
    {
      "cell_type": "code",
      "execution_count": 33,
      "metadata": {
        "id": "_TXDl1r4FAiY"
      },
      "outputs": [],
      "source": [
        "scaled_test_data=scaled_test_data[top_score_cols]"
      ]
    },
    {
      "cell_type": "code",
      "execution_count": null,
      "metadata": {
        "id": "ce9l_n9eJ5pC"
      },
      "outputs": [],
      "source": [
        "training_data.shape"
      ]
    },
    {
      "cell_type": "code",
      "execution_count": 34,
      "metadata": {
        "id": "0qevnr1z-lpV"
      },
      "outputs": [],
      "source": [
        "sampled_training_data=training_data[0:3696245:10]"
      ]
    },
    {
      "cell_type": "code",
      "execution_count": 35,
      "metadata": {
        "id": "LI3z43MIAFUA"
      },
      "outputs": [],
      "source": [
        "sampled_train_y=train_y.iloc[sampled_training_data.index]"
      ]
    },
    {
      "cell_type": "code",
      "execution_count": null,
      "metadata": {
        "id": "gK3khg5VAaa0"
      },
      "outputs": [],
      "source": [
        "sampled_train_y"
      ]
    },
    {
      "cell_type": "code",
      "execution_count": null,
      "metadata": {
        "colab": {
          "base_uri": "https://localhost:8080/"
        },
        "id": "Xfmy0Jgk7qZP",
        "outputId": "fb2a7c95-ee24-49ff-8b6c-b83ef040466e"
      },
      "outputs": [
        {
          "data": {
            "text/plain": [
              "(1584106, 20)"
            ]
          },
          "execution_count": 70,
          "metadata": {},
          "output_type": "execute_result"
        }
      ],
      "source": [
        "#sampled_training_data.shape\n",
        "#training_data.shape\n",
        "#X_train.shape\n",
        "#X_test.shape\n",
        "#y_train.shape\n",
        "#y_test.shape\n",
        "scaled_test_data.shape"
      ]
    },
    {
      "cell_type": "code",
      "execution_count": 36,
      "metadata": {
        "id": "pQs2pNVF7qZP"
      },
      "outputs": [],
      "source": [
        "from sklearn.model_selection import train_test_split\n",
        "X_train, X_test, y_train, y_test = train_test_split(sampled_training_data, sampled_train_y, random_state=42,test_size=0.30)\n",
        "#X_train, X_test, y_train, y_test = train_test_split(x_pca, train_y, random_state=40,test_size=0.30)\n"
      ]
    },
    {
      "cell_type": "markdown",
      "source": [
        "RandomForestClassifier from sklearn using the data set. I could see that at n_estimators =150, I got an accuracy of ~ 24 %, which was an improvement compared to previous random forest classifiers. "
      ],
      "metadata": {
        "id": "wjTYVH0l9r8R"
      }
    },
    {
      "cell_type": "code",
      "execution_count": null,
      "metadata": {
        "id": "Il3rCsto7qZP"
      },
      "outputs": [],
      "source": [
        "#Import Random Forest Model\n",
        "from sklearn.ensemble import RandomForestClassifier\n",
        "\n",
        "#Create a Gaussian Classifier\n",
        "#clf=RandomForestClassifier(n_estimators=100) first one with default settings\n",
        "\n",
        "clf=RandomForestClassifier(n_estimators=150,criterion='entropy')\n",
        "\n",
        "#Train the model using the training sets y_pred=clf.predict(X_test)\n",
        "clf.fit(X_train,y_train)\n",
        "\n",
        "y_pred=clf.predict(X_test)"
      ]
    },
    {
      "cell_type": "code",
      "execution_count": null,
      "metadata": {
        "colab": {
          "base_uri": "https://localhost:8080/"
        },
        "id": "gGbPyo1J7qZP",
        "outputId": "d30bab6b-215f-4597-c357-502aaf2823da"
      },
      "outputs": [
        {
          "name": "stdout",
          "output_type": "stream",
          "text": [
            "Accuracy: 0.24072938460428542\n"
          ]
        }
      ],
      "source": [
        "#Import scikit-learn metrics module for accuracy calculation\n",
        "from sklearn import metrics\n",
        "# Model Accuracy, how often is the classifier correct?\n",
        "print(\"Accuracy:\",metrics.accuracy_score(y_test, y_pred))"
      ]
    },
    {
      "cell_type": "code",
      "execution_count": null,
      "metadata": {
        "colab": {
          "base_uri": "https://localhost:8080/"
        },
        "id": "-hDnyVngAxhy",
        "outputId": "ca03a894-c388-4725-8c6d-271e6667e8a3"
      },
      "outputs": [
        {
          "name": "stdout",
          "output_type": "stream",
          "text": [
            "Accuracy of RDF classifier on training set: 0.98\n",
            "Accuracy of RDF classifier on test set: 0.24\n"
          ]
        }
      ],
      "source": [
        "print('Accuracy of RDF classifier on training set: {:.2f}'\n",
        "     .format(clf.score(X_train, y_train)))\n",
        "print('Accuracy of RDF classifier on test set: {:.2f}'\n",
        "     .format(clf.score(X_test, y_test)))"
      ]
    },
    {
      "cell_type": "code",
      "execution_count": null,
      "metadata": {
        "id": "JBoxmoanBwUD"
      },
      "outputs": [],
      "source": [
        "random_forest_scaled=clf.predict(scaled_test_data)"
      ]
    },
    {
      "cell_type": "code",
      "execution_count": null,
      "metadata": {
        "colab": {
          "base_uri": "https://localhost:8080/"
        },
        "id": "d-rh0uVHF9Fo",
        "outputId": "0c0e99fb-0f13-46b4-abc1-131f1579a1bd"
      },
      "outputs": [
        {
          "data": {
            "text/plain": [
              "(1584106,)"
            ]
          },
          "execution_count": 65,
          "metadata": {},
          "output_type": "execute_result"
        }
      ],
      "source": [
        "random_forest_scaled.shape"
      ]
    },
    {
      "cell_type": "code",
      "execution_count": null,
      "metadata": {
        "id": "e4YdhpKsFqL-"
      },
      "outputs": [],
      "source": [
        "save_result(random_forest_scaled,'random_forest_scaled')"
      ]
    },
    {
      "cell_type": "code",
      "execution_count": null,
      "metadata": {
        "id": "JBCRV0VPDj7N"
      },
      "outputs": [],
      "source": [
        "rf_random.best_params_\n"
      ]
    },
    {
      "cell_type": "markdown",
      "source": [
        "XGBoost classifier as it is a decision-tree-based ensemble Machine Learning algorithm that uses a gradient boosting framework. It combines a set of weak learners and delivers improved prediction accuracy. At any instant t, the model outcomes are weighed based on the outcomes of previous instant t-1. The outcomes predicted correctly are given a lower weight and the ones miss-classified are weighted higher. XGBoost algorithm takes much time to train the model, and I got an accuracy of ~23.8%. The classifier got overfitted which reduced the accuracy. I tried tuning the classifier and to reduce the overfitting by using the early_stopping_rounds=10.\n"
      ],
      "metadata": {
        "id": "XbfKj1y9-BBQ"
      }
    },
    {
      "cell_type": "code",
      "execution_count": null,
      "metadata": {
        "id": "Ch7WRMNRQNT0"
      },
      "outputs": [],
      "source": [
        "import xgboost as xgb\n",
        "\n",
        "from xgboost import XGBClassifier\n",
        "\n",
        "from sklearn.metrics import accuracy_score"
      ]
    },
    {
      "cell_type": "code",
      "execution_count": null,
      "metadata": {
        "id": "5QQJpbB7vHZz"
      },
      "outputs": [],
      "source": [
        "model = XGBClassifier(n_estimators = 400, learning_rate = 0.1) \n",
        "\n",
        "model.fit(X_train, y_train)\n",
        "\n",
        "y_pred = model.predict(X_test) \n",
        "\n",
        "#predictions = [round(value) for value in y_pred]\n",
        "\n"
      ]
    },
    {
      "cell_type": "code",
      "execution_count": null,
      "metadata": {
        "colab": {
          "base_uri": "https://localhost:8080/"
        },
        "id": "Z8ethHZ7xFtx",
        "outputId": "eb3732f9-27d8-42d9-c435-584ba6a6a430"
      },
      "outputs": [
        {
          "name": "stdout",
          "output_type": "stream",
          "text": [
            "Accuracy: 28.36%\n",
            "Training set score: 0.2920\n",
            "Test set score: 0.2836\n"
          ]
        }
      ],
      "source": [
        "accuracy = accuracy_score(y_test, y_pred) \n",
        "\n",
        "print(\"Accuracy: %.2f%%\" % (accuracy * 100.0)) #27.76%\n",
        "\n",
        "print('Training set score: {:.4f}'.format(model.score(X_train, y_train)))\n",
        "\n",
        "print('Test set score: {:.4f}'.format(model.score(X_test, y_test)))"
      ]
    },
    {
      "cell_type": "code",
      "execution_count": null,
      "metadata": {
        "id": "s9TsnqLu3Iwd"
      },
      "outputs": [],
      "source": [
        "predicted_XGB_ensemble_result=model.predict(scaled_test_data)"
      ]
    },
    {
      "cell_type": "code",
      "execution_count": null,
      "metadata": {
        "id": "Swg5GEJT78w6"
      },
      "outputs": [],
      "source": [
        "save_result(predicted_XGB_ensemble_result,'XGB_ensemble_result')"
      ]
    },
    {
      "cell_type": "markdown",
      "source": [
        "gradient boosting classifier that combines many weak learning models together to create a strong predictive model. It minimizes a loss function by iteratively choosing a function that points towards the negative gradient. This classifier gave an accuracy of ~ 26%.\n",
        "\n"
      ],
      "metadata": {
        "id": "QhR4Qwrb95jY"
      }
    },
    {
      "cell_type": "code",
      "execution_count": null,
      "metadata": {
        "id": "bCDXUlfEnciU"
      },
      "outputs": [],
      "source": [
        "from sklearn.ensemble import GradientBoostingClassifier\n",
        "\n",
        "ensemble = GradientBoostingClassifier(n_estimators = 210,max_depth=1,learning_rate = 0.1,random_state=123).fit(X_train, y_train)\n",
        "score = ensemble.score(X_test, y_test)"
      ]
    },
    {
      "cell_type": "code",
      "execution_count": null,
      "metadata": {
        "colab": {
          "base_uri": "https://localhost:8080/"
        },
        "id": "kuoXdBhfndEN",
        "outputId": "e7b033cf-050d-4c19-d86d-265d630aa864"
      },
      "outputs": [
        {
          "name": "stdout",
          "output_type": "stream",
          "text": [
            "0.2680903253733497\n"
          ]
        }
      ],
      "source": [
        "print(score)"
      ]
    },
    {
      "cell_type": "code",
      "execution_count": null,
      "metadata": {
        "id": "XLw5uPSzng8d"
      },
      "outputs": [],
      "source": [
        "predicted_ensemble_result=ensemble.predict(scaled_test_data)"
      ]
    },
    {
      "cell_type": "code",
      "execution_count": null,
      "metadata": {
        "id": "MKz0kc17njdH"
      },
      "outputs": [],
      "source": [
        "save_result(predicted_ensemble_result,'gradient_boosting_result')"
      ]
    },
    {
      "cell_type": "markdown",
      "source": [
        "I tried using Light GBM, which is a fast, distributed, high-performance gradient boosting framework based on a decision tree algorithm. It is designed to be distributed and efficient to have Faster training speed. I got an accuracy of ~25%, which was an improvement from xgboost classifier.\n",
        " \n"
      ],
      "metadata": {
        "id": "I6OdpCZB-FY5"
      }
    },
    {
      "cell_type": "code",
      "execution_count": null,
      "metadata": {
        "id": "NEWbvs89Gdlk"
      },
      "outputs": [],
      "source": [
        "import lightgbm as lgb\n",
        "clf = lgb.LGBMClassifier()\n",
        "#clf = lgb.LGBMClassifier(objective= 'multiclass',\n",
        " #     metric=  ['multi_logloss'],#'auc',\n",
        " #     verbosity= -1,\n",
        " #     boosting_type= 'goss', #gbrt\n",
        "   #   num_iterations=210,\n",
        "     # learning_rate=0.5,\n",
        "     # lambda_l1= 0.0005523588106120283,\n",
        "     # lambda_l2= 6.72929973145413e-07,\n",
        "      #num_leaves= 6,\n",
        "  #    extra_trees=1,\n",
        "      #feature_fraction= 0.8,\n",
        "     # bagging_fraction= 0.9,\n",
        "   #  bagging_freq= 1,\n",
        "  #    min_child_samples= 20\n",
        "   #   )\n"
      ]
    },
    {
      "cell_type": "code",
      "execution_count": null,
      "metadata": {
        "id": "Qron0ZQwBJ03"
      },
      "outputs": [],
      "source": [
        "clf.fit(X_train, y_train)"
      ]
    },
    {
      "cell_type": "code",
      "execution_count": null,
      "metadata": {
        "id": "QqArq1D_GmvY"
      },
      "outputs": [],
      "source": [
        "lgb_pred=clf.predict(X_test)\n"
      ]
    },
    {
      "cell_type": "code",
      "execution_count": null,
      "metadata": {
        "colab": {
          "base_uri": "https://localhost:8080/"
        },
        "id": "p3RvkqzeGu95",
        "outputId": "1d7da0fb-4bd1-410b-bfcc-4ae44d6c518f"
      },
      "outputs": [
        {
          "name": "stdout",
          "output_type": "stream",
          "text": [
            "LightGBM Model accuracy score: 0.2745\n"
          ]
        }
      ],
      "source": [
        "# view accuracy\n",
        "from sklearn.metrics import accuracy_score\n",
        "accuracy=accuracy_score(lgb_pred, y_test)\n",
        "print('LightGBM Model accuracy score: {0:0.4f}'.format(accuracy_score(y_test, lgb_pred)))"
      ]
    },
    {
      "cell_type": "code",
      "execution_count": null,
      "metadata": {
        "colab": {
          "base_uri": "https://localhost:8080/"
        },
        "id": "jGXlswtXLtUF",
        "outputId": "7e10f998-e467-4362-b358-0c95fe25d7cf"
      },
      "outputs": [
        {
          "name": "stdout",
          "output_type": "stream",
          "text": [
            "Training set score: 0.3190\n",
            "Test set score: 0.2745\n"
          ]
        }
      ],
      "source": [
        "print('Training set score: {:.4f}'.format(clf.score(X_train, y_train)))\n",
        "\n",
        "print('Test set score: {:.4f}'.format(clf.score(X_test, y_test)))"
      ]
    },
    {
      "cell_type": "code",
      "execution_count": null,
      "metadata": {
        "id": "qCVJbAqBLMlz"
      },
      "outputs": [],
      "source": [
        "from sklearn.metrics import confusion_matrix\n",
        "cm = confusion_matrix(y_test, lgb_pred)\n",
        "print('Confusion matrix\\n\\n', cm)\n",
        "print('\\nTrue Positives(TP) = ', cm[0,0])\n",
        "print('\\nTrue Negatives(TN) = ', cm[1,1])\n",
        "print('\\nFalse Positives(FP) = ', cm[0,1])\n",
        "print('\\nFalse Negatives(FN) = ', cm[1,0])"
      ]
    },
    {
      "cell_type": "code",
      "execution_count": null,
      "metadata": {
        "id": "9eKq6GmYIG7L"
      },
      "outputs": [],
      "source": [
        "modified_LGBM_result=clf.predict(scaled_test_data)"
      ]
    },
    {
      "cell_type": "code",
      "execution_count": null,
      "metadata": {
        "id": "ifKTWqVoPBCC"
      },
      "outputs": [],
      "source": [
        "save_result(modified_LGBM_result,'modified_LGBM_result')"
      ]
    },
    {
      "cell_type": "markdown",
      "source": [
        "I wasn’t able to perform the below operations, due to Memory and CPU constraints, I tried reducing the parameters but due to memory issues the operation terminated after running for 2 hours. ** Don't Run it will run long**"
      ],
      "metadata": {
        "id": "7rtgHKF2-OHQ"
      }
    },
    {
      "cell_type": "code",
      "execution_count": null,
      "metadata": {
        "id": "B5xE9EaaRIXR"
      },
      "outputs": [],
      "source": [
        " !pip install optuna\n",
        " #!pip install lightgbm --install-option=--gpu\n"
      ]
    },
    {
      "cell_type": "code",
      "execution_count": null,
      "metadata": {
        "id": "0FuJNA3NQ1W0"
      },
      "outputs": [],
      "source": [
        "import optuna  \n",
        "import lightgbm as lgbm\n",
        "from sklearn.metrics import log_loss\n",
        "from sklearn.model_selection import StratifiedKFold\n",
        "from optuna.integration import LightGBMPruningCallback\n",
        "\n",
        "def objective(trial, X, y):\n",
        "    param_grid = {\n",
        "         #\"device_type\": trial.suggest_categorical(\"device_type\", ['gpu']),\n",
        "        \"n_estimators\": trial.suggest_categorical(\"n_estimators\", [400]),\n",
        "        \"learning_rate\": trial.suggest_float(\"learning_rate\", 0.01, 0.3),\n",
        "        \"num_leaves\": trial.suggest_int(\"num_leaves\", 20, 1000, step=20),\n",
        "        \"max_depth\": trial.suggest_int(\"max_depth\", 3, 10),\n",
        "        \"min_data_in_leaf\": trial.suggest_int(\"min_data_in_leaf\", 200, 1000, step=100),\n",
        "        \"lambda_l1\": trial.suggest_int(\"lambda_l1\", 0, 100, step=5),\n",
        "        \"lambda_l2\": trial.suggest_int(\"lambda_l2\", 0, 100, step=5),\n",
        "        \"min_gain_to_split\": trial.suggest_float(\"min_gain_to_split\", 0, 15),\n",
        "        \"bagging_fraction\": trial.suggest_float(\n",
        "            \"bagging_fraction\", 0.2, 0.95, step=0.1\n",
        "        ),\n",
        "        \"bagging_freq\": trial.suggest_categorical(\"bagging_freq\", [1]),\n",
        "        \"feature_fraction\": trial.suggest_float(\n",
        "            \"feature_fraction\", 0.2, 0.95, step=0.1\n",
        "        ),\n",
        "    }\n",
        "\n",
        "    cv = StratifiedKFold(n_splits=5, shuffle=True, random_state=1121218)\n",
        "\n",
        "    cv_scores = np.empty(5)\n",
        "    for idx, (train_idx, test_idx) in enumerate(cv.split(X, y)):\n",
        "        X_train, X_test = X.iloc[train_idx], X.iloc[test_idx]\n",
        "        y_train, y_test = y.iloc[train_idx], y.iloc[test_idx]#y[train_idx], y[test_idx]\n",
        "\n",
        "        model = lgbm.LGBMClassifier(objective=\"multiclass\", **param_grid)\n",
        "        model.fit(\n",
        "            X_train,\n",
        "            y_train,\n",
        "            eval_set=[(X_test, y_test)],\n",
        "            eval_metric=\"multi_logloss\",\n",
        "            early_stopping_rounds=100,\n",
        "            callbacks=[\n",
        "                LightGBMPruningCallback(trial, \"multi_logloss\")\n",
        "            ]  # Add a pruning callback\n",
        "        )\n",
        "        preds = model.predict_proba(X_test)\n",
        "        cv_scores[idx] = log_loss(y_test, preds)\n",
        "\n",
        "    return np.mean(cv_scores)"
      ]
    },
    {
      "cell_type": "code",
      "execution_count": null,
      "metadata": {
        "colab": {
          "background_save": true
        },
        "id": "fADHPeKfRPMV"
      },
      "outputs": [],
      "source": [
        "study = optuna.create_study(direction=\"minimize\", study_name=\"LGBM Classifier\")\n",
        "func = lambda trial: objective(trial, training_data, train_y)\n",
        "study.optimize(func, n_trials=10)"
      ]
    },
    {
      "cell_type": "code",
      "execution_count": null,
      "metadata": {
        "id": "fRVAFpd7RTtj"
      },
      "outputs": [],
      "source": [
        "print(f\"\\tBest value (rmse): {study.best_value:.5f}\")\n",
        "print(f\"\\tBest params:\")\n",
        "\n",
        "for key, value in study.best_params.items():\n",
        "    print(f\"\\t\\t{key}: {value}\")"
      ]
    },
    {
      "cell_type": "code",
      "execution_count": null,
      "metadata": {
        "id": "fxw5dCSnHiQA"
      },
      "outputs": [],
      "source": [
        "LGBM_ensemble_result=clf.predict(scaled_test_data)"
      ]
    },
    {
      "cell_type": "code",
      "execution_count": null,
      "metadata": {
        "id": "0a6-gvEnIDZZ"
      },
      "outputs": [],
      "source": [
        "save_result(LGBM_ensemble_result,'LGBM_ensemble_result')"
      ]
    },
    {
      "cell_type": "markdown",
      "source": [
        "Tried Voting Classifier on decision tree and Support Vector Machine classifier"
      ],
      "metadata": {
        "id": "BhTqWAX0-cNm"
      }
    },
    {
      "cell_type": "code",
      "execution_count": null,
      "metadata": {
        "id": "eCbe_wyf6uPr"
      },
      "outputs": [],
      "source": [
        "from sklearn.tree import DecisionTreeClassifier\n",
        "from sklearn. ensemble import RandomForestClassifier, BaggingClassifier, AdaBoostClassifier, VotingClassifier\n",
        "from sklearn.linear_model import LogisticRegression\n",
        "from sklearn.svm import SVC"
      ]
    },
    {
      "cell_type": "code",
      "execution_count": null,
      "metadata": {
        "id": "6I8TxXY88env"
      },
      "outputs": [],
      "source": [
        "# Voting Multiple Ensemble Model\n",
        "#lr = LogisticRegression()\n",
        "dt = DecisionTreeClassifier()\n",
        "svm = SVC(kernel = 'poly', degree = 2 )\n"
      ]
    },
    {
      "cell_type": "code",
      "execution_count": null,
      "metadata": {
        "id": "m7M5bFOL82Cv"
      },
      "outputs": [],
      "source": [
        "evc = VotingClassifier( estimators= [('dt',dt),('svm',svm)], voting = 'hard') #('lr',lr)\n"
      ]
    },
    {
      "cell_type": "code",
      "execution_count": null,
      "metadata": {
        "id": "xcwmbFu69Eaq"
      },
      "outputs": [],
      "source": [
        "evc.fit(X_train.iloc[1:50000],y_train.iloc[1:50000])\n"
      ]
    },
    {
      "cell_type": "code",
      "execution_count": null,
      "metadata": {
        "colab": {
          "base_uri": "https://localhost:8080/"
        },
        "id": "t-4k52IQ_g37",
        "outputId": "aa557970-0eab-43ef-cc10-05f3c7b009f6"
      },
      "outputs": [
        {
          "data": {
            "text/plain": [
              "0.2021228627083183"
            ]
          },
          "execution_count": 44,
          "metadata": {},
          "output_type": "execute_result"
        }
      ],
      "source": [
        "evc.score(X_test, y_test)"
      ]
    },
    {
      "cell_type": "markdown",
      "metadata": {
        "id": "ffTI__xkeNYG"
      },
      "source": [
        "Tried implementing neural networks but didn't got enough time to fix the code. "
      ]
    },
    {
      "cell_type": "code",
      "execution_count": null,
      "metadata": {
        "id": "iTFHLfcxeRQG"
      },
      "outputs": [],
      "source": [
        "import numpy as np\n",
        "#from sklearn import datasets\n",
        "from sklearn.model_selection import train_test_split\n",
        "#\n",
        "# Import Keras modules\n",
        "#\n",
        "from keras import models\n",
        "from keras import layers\n",
        "from tensorflow.keras.utils import to_categorical\n",
        "#\n",
        "# Create the network\n",
        "#\n",
        "network = models.Sequential()\n",
        "network.add(layers.Dense(512, activation='relu'))#, input_shape=(20,)\n",
        "network.add(layers.Dense(3, activation='softmax'))\n",
        "#\n",
        "# Compile the network\n",
        "#\n",
        "network.compile(optimizer='rmsprop',\n",
        "                loss='categorical_crossentropy',\n",
        "                metrics=['accuracy'])\n"
      ]
    },
    {
      "cell_type": "code",
      "execution_count": null,
      "metadata": {
        "id": "VsxhWPktowmZ"
      },
      "outputs": [],
      "source": [
        "# Load the dataset\n",
        "#\n",
        "X = sampled_training_data\n",
        "y = sampled_train_y\n",
        "#"
      ]
    },
    {
      "cell_type": "code",
      "execution_count": null,
      "metadata": {
        "id": "Z0ytFlxCoxej"
      },
      "outputs": [],
      "source": [
        "# Create training and test split\n",
        "#\n",
        "X_train, X_test, y_train, y_test = train_test_split(X, y, test_size=0.3, stratify=y, random_state=42)"
      ]
    },
    {
      "cell_type": "code",
      "execution_count": null,
      "metadata": {
        "id": "UkUJn0fNo6tb"
      },
      "outputs": [],
      "source": [
        "# Create categorical labels\n",
        "#\n",
        "train_labels = y_train\n",
        "test_labels = y_test\n",
        "#"
      ]
    },
    {
      "cell_type": "code",
      "execution_count": null,
      "metadata": {
        "id": "NuiZS-l8o7cR"
      },
      "outputs": [],
      "source": [
        "# Fit the neural network\n",
        "#\n",
        "network.fit(X_train, train_labels, epochs=20, batch_size=40)"
      ]
    },
    {
      "cell_type": "code",
      "execution_count": null,
      "metadata": {
        "id": "DVf6yyIXpJRx"
      },
      "outputs": [],
      "source": [
        "#\n",
        "# Get the accuracy of test data set\n",
        "#\n",
        "test_loss, test_acc = network.evaluate(X_test, test_labels)\n",
        "#\n",
        "# Print the test accuracy\n",
        "#\n",
        "print('Test Accuracy: ', test_acc, '\\nTest Loss: ', test_loss)\n"
      ]
    },
    {
      "cell_type": "markdown",
      "metadata": {
        "id": "dbPPLL1-ajDg"
      },
      "source": [
        "6.Generally, the features given in the dataset have values in different ranges based on gender. For example, generally of Pco2 lies in the range of 12.1-15.0 gm/dL for females, and for males it’s 13.5-17.0 gm/dL. Hence, I tried to divide the data set into 2 parts and then based on the patient's gender I tried to fill the NA’s with their respective mean values of the features. I did the same steps to handle NA’s in test data. Once the data preprocessing was done, built classifiers on it."
      ]
    },
    {
      "cell_type": "code",
      "execution_count": 37,
      "metadata": {
        "id": "mtQH_CPDaibs"
      },
      "outputs": [],
      "source": [
        "#MAking a copy of X Training Data and subsamppling it.\n",
        "train_x_4=train_x_1[0:3696245:20]"
      ]
    },
    {
      "cell_type": "code",
      "execution_count": null,
      "metadata": {
        "id": "Aqn1IRejsRkW",
        "colab": {
          "base_uri": "https://localhost:8080/"
        },
        "outputId": "820fac0b-5e33-4535-f54a-d95d44c550ca"
      },
      "outputs": [
        {
          "output_type": "execute_result",
          "data": {
            "text/plain": [
              "(184813, 43)"
            ]
          },
          "metadata": {},
          "execution_count": 15
        }
      ],
      "source": [
        "train_x_4.shape"
      ]
    },
    {
      "cell_type": "code",
      "execution_count": 38,
      "metadata": {
        "id": "1SiSK0cijpas"
      },
      "outputs": [],
      "source": [
        "#Making a copy of Test Data\n",
        "test_data_4=test_data"
      ]
    },
    {
      "cell_type": "code",
      "source": [
        "from sklearn import preprocessing\n",
        "label_encoder = preprocessing.LabelEncoder()\n",
        "to_encoder_train_y_4= label_encoder.fit_transform(to_encoder_train_y_4)\n"
      ],
      "metadata": {
        "colab": {
          "base_uri": "https://localhost:8080/"
        },
        "id": "FY5jM8WMPhkG",
        "outputId": "bc4da974-effe-48e0-e385-814756d730a9"
      },
      "execution_count": null,
      "outputs": [
        {
          "output_type": "stream",
          "name": "stderr",
          "text": [
            "/usr/local/lib/python3.7/dist-packages/sklearn/preprocessing/_label.py:115: DataConversionWarning: A column-vector y was passed when a 1d array was expected. Please change the shape of y to (n_samples, ), for example using ravel().\n",
            "  y = column_or_1d(y, warn=True)\n"
          ]
        }
      ]
    },
    {
      "cell_type": "code",
      "execution_count": 54,
      "metadata": {
        "id": "EcsPfIIgnga8"
      },
      "outputs": [],
      "source": [
        "#Making a copy of Y Train Data\n",
        "\n",
        "train_y_4=train_y.iloc[train_x_4.index]"
      ]
    },
    {
      "cell_type": "code",
      "source": [
        "#to_encoder_train_y_4=train_y_4"
      ],
      "metadata": {
        "id": "WYjObrCnQWaq"
      },
      "execution_count": null,
      "outputs": []
    },
    {
      "cell_type": "code",
      "source": [
        "#train_y_4.head(2)"
      ],
      "metadata": {
        "id": "vtEiMAZQQ6bZ"
      },
      "execution_count": null,
      "outputs": []
    },
    {
      "cell_type": "code",
      "source": [
        "#to_encoder_train_y_4=pd.DataFrame(data=to_encoder_train_y_4,columns=['TARGET'])"
      ],
      "metadata": {
        "id": "Rf2t_0qLQiN1"
      },
      "execution_count": null,
      "outputs": []
    },
    {
      "cell_type": "code",
      "source": [
        "#to_encoder_train_y_4.head(4)"
      ],
      "metadata": {
        "id": "asUCbXYBRGfF"
      },
      "execution_count": null,
      "outputs": []
    },
    {
      "cell_type": "code",
      "execution_count": 40,
      "metadata": {
        "id": "Am9RvkKHbz2g"
      },
      "outputs": [],
      "source": [
        "# We've a list of top 20 features, from select KBest, using the same set of fatures.\n",
        "top_features=[ 'Age','Marital_status','Condition_importance','Gender','Bilirubin, Total','Admission_type','Hospital_death_flag','Urea Nitrogen','I','Hematocrit','Hemoglobin','Ethnicity','Creatinine','pO2','Red Blood Cells','MCV','H','Bicarbonate','PTT','RDW']"
      ]
    },
    {
      "cell_type": "code",
      "execution_count": null,
      "metadata": {
        "id": "jqmVGYQFdvWU"
      },
      "outputs": [],
      "source": [
        "#train_x_4.shape#(5)\n",
        "train_x_4=train_x_4[top_features]\n",
        "test_data_4=test_data_4[top_features]"
      ]
    },
    {
      "cell_type": "markdown",
      "source": [
        "Splitted the train and test data set based on gender to handle missing values based on their respective ranges."
      ],
      "metadata": {
        "id": "XVnA8Twh_huF"
      }
    },
    {
      "cell_type": "code",
      "execution_count": 42,
      "metadata": {
        "id": "7wM_Bei4WXAN"
      },
      "outputs": [],
      "source": [
        "#train_x.head(5) #male 1 female 0\n",
        "train_x_data_male=train_x_4[ train_x_4['Gender'] == 1]\n",
        "train_x_data_female=train_x_4[ train_x_4['Gender'] == 0]"
      ]
    },
    {
      "cell_type": "code",
      "execution_count": 43,
      "metadata": {
        "id": "8APapS3Aj3no"
      },
      "outputs": [],
      "source": [
        "test_data_male=test_data_4[ test_data_4['Gender'] == 1]\n",
        "test_data_female=test_data_4[ test_data_4['Gender'] == 0]"
      ]
    },
    {
      "cell_type": "code",
      "execution_count": null,
      "metadata": {
        "colab": {
          "base_uri": "https://localhost:8080/"
        },
        "id": "El9XVwwYaJhx",
        "outputId": "d46a004d-e9de-4243-be93-f5ee3f554d44"
      },
      "outputs": [
        {
          "output_type": "execute_result",
          "data": {
            "text/plain": [
              "(185669, 20)"
            ]
          },
          "metadata": {},
          "execution_count": 44
        }
      ],
      "source": [
        "train_x_data_female.shape\n",
        "#train_x_data_female.head(5)"
      ]
    },
    {
      "cell_type": "code",
      "execution_count": null,
      "metadata": {
        "colab": {
          "base_uri": "https://localhost:8080/"
        },
        "id": "KyOLzZzjkOmX",
        "outputId": "09d0e1ef-62c5-49ca-a413-14b1ca6e3b68"
      },
      "outputs": [
        {
          "output_type": "execute_result",
          "data": {
            "text/plain": [
              "(183956, 20)"
            ]
          },
          "metadata": {},
          "execution_count": 45
        }
      ],
      "source": [
        "train_x_data_male.shape\n",
        "#train_x_data_male.head(5)"
      ]
    },
    {
      "cell_type": "markdown",
      "source": [
        "Filling nulls in Male/Female data set as per the mean values"
      ],
      "metadata": {
        "id": "DsY77ZWq_wc2"
      }
    },
    {
      "cell_type": "code",
      "execution_count": null,
      "metadata": {
        "id": "dKaRm8CmhQhW"
      },
      "outputs": [],
      "source": [
        "for col in top_features:\n",
        "  train_x_data_male[col].fillna(value=train_x_data_male[col].mean(),inplace=True)"
      ]
    },
    {
      "cell_type": "code",
      "execution_count": null,
      "metadata": {
        "id": "BnEI8Wnehl0V"
      },
      "outputs": [],
      "source": [
        "for col in top_features:\n",
        "  train_x_data_female[col].fillna(value=train_x_data_female[col].mean(),inplace=True)"
      ]
    },
    {
      "cell_type": "code",
      "execution_count": null,
      "metadata": {
        "id": "YkFfp0vBkLVe"
      },
      "outputs": [],
      "source": [
        "for col in top_features:\n",
        "  test_data_male[col].fillna(value=test_data_male[col].mean(),inplace=True)"
      ]
    },
    {
      "cell_type": "code",
      "execution_count": null,
      "metadata": {
        "id": "TmiRZ00NkNwN"
      },
      "outputs": [],
      "source": [
        "for col in top_features:\n",
        "  test_data_female[col].fillna(value=test_data_female[col].mean(),inplace=True)"
      ]
    },
    {
      "cell_type": "code",
      "execution_count": 48,
      "metadata": {
        "id": "_4xcPVlwh0tx"
      },
      "outputs": [],
      "source": [
        "# Training Data is prepared.\n",
        "filled_train_data=pd.concat([train_x_data_male,train_x_data_female],sort=False,).sort_index()"
      ]
    },
    {
      "cell_type": "code",
      "execution_count": 49,
      "metadata": {
        "id": "L7OYlUkCkbL8"
      },
      "outputs": [],
      "source": [
        "# Test Data is prepared.\n",
        "final_test_data=pd.concat([test_data_male,test_data_female],sort=False,).sort_index()"
      ]
    },
    {
      "cell_type": "code",
      "execution_count": null,
      "metadata": {
        "id": "Wo_kCqwmjntc",
        "colab": {
          "base_uri": "https://localhost:8080/"
        },
        "outputId": "ce400f4a-eeb8-4f0f-b7b5-e6323cb5ddf1"
      },
      "outputs": [
        {
          "output_type": "execute_result",
          "data": {
            "text/plain": [
              "(1584106, 20)"
            ]
          },
          "metadata": {},
          "execution_count": 52
        }
      ],
      "source": [
        "#filled_train_data.head(10)\n",
        "final_test_data.shape"
      ]
    },
    {
      "cell_type": "code",
      "execution_count": 50,
      "metadata": {
        "id": "Q-0WL3ZQl_kb"
      },
      "outputs": [],
      "source": [
        "from sklearn.preprocessing import MinMaxScaler\n",
        "scaler = MinMaxScaler()\n",
        "scaled_train_x_data = scaler.fit_transform(filled_train_data)\n",
        "scaled_test_data = scaler.fit_transform(final_test_data)\n"
      ]
    },
    {
      "cell_type": "code",
      "execution_count": 51,
      "metadata": {
        "id": "AFtuazU4l_kc"
      },
      "outputs": [],
      "source": [
        "scaled_train_x_data=pd.DataFrame(data=scaled_train_x_data,columns=top_features)"
      ]
    },
    {
      "cell_type": "code",
      "execution_count": null,
      "metadata": {
        "id": "gsjSHhz_mmZ7",
        "colab": {
          "base_uri": "https://localhost:8080/"
        },
        "outputId": "e4f1473c-00d3-4e60-9389-d1e0650ccc3f"
      },
      "outputs": [
        {
          "output_type": "execute_result",
          "data": {
            "text/plain": [
              "(184813, 1)"
            ]
          },
          "metadata": {},
          "execution_count": 46
        }
      ],
      "source": [
        "#scaled_train_x_data.shape\n",
        "train_y_4.shape"
      ]
    },
    {
      "cell_type": "code",
      "execution_count": 52,
      "metadata": {
        "id": "V9ZRMSAvl_kc"
      },
      "outputs": [],
      "source": [
        "scaled_test_data=pd.DataFrame(data=scaled_test_data,columns=top_features)"
      ]
    },
    {
      "cell_type": "code",
      "execution_count": 55,
      "metadata": {
        "id": "_Z76h4grnB3k"
      },
      "outputs": [],
      "source": [
        "from sklearn.model_selection import train_test_split\n",
        "#X_train, X_test, y_train, y_test = train_test_split(scaled_train_x_data, to_encoder_train_y_4, random_state=121,test_size=0.30)\n",
        "\n",
        "X_train, X_test, y_train, y_test = train_test_split(scaled_train_x_data, train_y_4, random_state=121,test_size=0.30)\n"
      ]
    },
    {
      "cell_type": "code",
      "source": [
        "#X_test.shape\n",
        "#y_train.shape\n",
        "#y_test.shape\n",
        "X_train.shape"
      ],
      "metadata": {
        "colab": {
          "base_uri": "https://localhost:8080/"
        },
        "id": "s3Xx0JTocsET",
        "outputId": "3eadec29-1e3a-4d13-abb0-351ba505a775"
      },
      "execution_count": null,
      "outputs": [
        {
          "output_type": "execute_result",
          "data": {
            "text/plain": [
              "(129369, 20)"
            ]
          },
          "metadata": {},
          "execution_count": 44
        }
      ]
    },
    {
      "cell_type": "markdown",
      "source": [
        "Trying to Tune Gradient Boosting classifier, increasing the N_estimators, changing the learning_rate and max depth."
      ],
      "metadata": {
        "id": "bd9aGQRAAOrE"
      }
    },
    {
      "cell_type": "code",
      "execution_count": null,
      "metadata": {
        "id": "SsU7w7dGnB3l"
      },
      "outputs": [],
      "source": [
        "from sklearn.ensemble import GradientBoostingClassifier\n",
        "\n",
        "ensemble = GradientBoostingClassifier(n_estimators = 400,max_depth=1,learning_rate = 0.1,random_state=123).fit(X_train, y_train)\n",
        "score = ensemble.score(X_test, y_test)"
      ]
    },
    {
      "cell_type": "code",
      "execution_count": null,
      "metadata": {
        "id": "pgq1XJrRA9-X"
      },
      "outputs": [],
      "source": [
        "y_pred = ensemble.predict(X_test) \n"
      ]
    },
    {
      "cell_type": "code",
      "execution_count": null,
      "metadata": {
        "id": "uGL3STfKnB3l"
      },
      "outputs": [],
      "source": [
        "print(score)"
      ]
    },
    {
      "cell_type": "code",
      "execution_count": null,
      "metadata": {
        "id": "9krznOnBnB36"
      },
      "outputs": [],
      "source": [
        "predicted_ensemble_result=ensemble.predict(scaled_test_data)"
      ]
    },
    {
      "cell_type": "code",
      "execution_count": null,
      "metadata": {
        "id": "YT5tAJX2nB36"
      },
      "outputs": [],
      "source": [
        "save_result(predicted_ensemble_result,'gradient_boosting_result')"
      ]
    },
    {
      "cell_type": "markdown",
      "source": [
        "tried tuning XGBoostclassifier using the below parameters.\n",
        "n_estimator= Number of trees \n",
        "learning_rate=defines how fast the model learns\n",
        "subsample= XGBoost would sample the training data prior to growing trees. and this will prevent overfitting.\n",
        "max_depth= Maximum depth of a tree. Increasing this value will make the model more complex and more likely to overfit.\n",
        "Sampling_method= the selection probability for each training instance is proportional to the regularized absolute value of gradients.\n",
        "process_type=update: Starts from an existing model and only updates its trees. In each boosting iteration, a tree from the initial model is taken, a specified sequence of updaters is run for that tree, and a modified tree is added to the new model.\n",
        "reg_alpha=L1 regularization term on weights. Increasing this value will make the model more conservative.\n",
        "gamma=Minimum loss reduction required to make a further partition on a leaf node of the tree."
      ],
      "metadata": {
        "id": "nJ-273UiA357"
      }
    },
    {
      "cell_type": "code",
      "execution_count": null,
      "metadata": {
        "id": "WPI3f4KNofcA"
      },
      "outputs": [],
      "source": [
        "import xgboost as xgb\n",
        "\n",
        "from xgboost import XGBClassifier\n",
        "\n",
        "from sklearn.metrics import accuracy_score"
      ]
    },
    {
      "cell_type": "code",
      "execution_count": null,
      "metadata": {
        "id": "wsBgiCVhofcB"
      },
      "outputs": [],
      "source": [
        "#Model type 1\n",
        "model = XGBClassifier(n_estimators = 250, learning_rate = 0.1,subsample=0.8,max_depth=5,sampling_method='gradient_based',process_type='update') \n",
        "\n",
        "model.fit(X_train, y_train)\n",
        "\n",
        "y_pred = model.predict(X_test) \n",
        "\n",
        "#predictions = [round(value) for value in y_pred]\n",
        "\n"
      ]
    },
    {
      "cell_type": "code",
      "source": [
        "#Model type2\n",
        "model = XGBClassifier(silent=False, \n",
        "                      scale_pos_weight=1,\n",
        "                      learning_rate=0.1,  \n",
        "                      colsample_bytree = 0.4,\n",
        "                      subsample = 0.8,\n",
        "                      objective='multiclass',#'multi:softprob', \n",
        "                      n_estimators=400, \n",
        "                      reg_alpha = 0.3,\n",
        "                      max_depth=3, \n",
        "                      gamma=10)"
      ],
      "metadata": {
        "id": "kWP1_9eNbJcj"
      },
      "execution_count": null,
      "outputs": []
    },
    {
      "cell_type": "code",
      "source": [
        "eval_set = [(X_train, y_train), (X_test, y_test)]\n",
        "eval_metric = [\"mlogloss\"]\n",
        "%time model.fit(X_train, y_train, eval_metric=eval_metric, eval_set=eval_set, verbose=True,early_stopping_rounds=5)"
      ],
      "metadata": {
        "id": "ruuIh3QDpdIF"
      },
      "execution_count": null,
      "outputs": []
    },
    {
      "cell_type": "markdown",
      "source": [
        "tried Catboost, which is a boosted decision tree machine learning algorithm developed by Yandex. CatBoost converts categorical values into numbers using various statistics on combinations of categorical features and combinations of categorical and numerical features. I got an accuracy of ~25%.\n"
      ],
      "metadata": {
        "id": "e_5-jKtRAWDn"
      }
    },
    {
      "cell_type": "code",
      "source": [
        "#pip install catboost"
      ],
      "metadata": {
        "id": "joucNQXN7-t6"
      },
      "execution_count": null,
      "outputs": []
    },
    {
      "cell_type": "code",
      "source": [
        "# Trying catboost\n",
        "from catboost import CatBoostClassifier\n",
        "model = CatBoostClassifier(\n",
        "    iterations=1000,\n",
        "    random_seed=143,\n",
        "    #learning_rate=0.01,\n",
        "    #eval_metric='AUC',\n",
        "    early_stopping_rounds=10,\n",
        "   loss_function='MultiClass'\n",
        ")\n",
        "model.fit(\n",
        "    X_train, y_train,\n",
        "    #cat_features=cat_features,  (X_train, y_train)\n",
        "    eval_set=[(X_train, y_train),(X_test, y_test)],use_best_model = True, #(x_validation, y_validation),\n",
        "    verbose=False #,plot=True\n",
        ")"
      ],
      "metadata": {
        "colab": {
          "base_uri": "https://localhost:8080/"
        },
        "id": "er78Xnho7oIC",
        "outputId": "6cada56e-07d8-489a-dd9f-a10123c1853a"
      },
      "execution_count": null,
      "outputs": [
        {
          "output_type": "execute_result",
          "data": {
            "text/plain": [
              "<catboost.core.CatBoostClassifier at 0x7efdcf6d4750>"
            ]
          },
          "metadata": {},
          "execution_count": 141
        }
      ]
    },
    {
      "cell_type": "code",
      "execution_count": null,
      "metadata": {
        "id": "N6eT0viSofcC",
        "colab": {
          "base_uri": "https://localhost:8080/"
        },
        "outputId": "eb658837-74a5-493f-ec17-2882306443fb"
      },
      "outputs": [
        {
          "output_type": "stream",
          "name": "stdout",
          "text": [
            "Training set score: 0.3058\n",
            "Test set score: 0.2805\n"
          ]
        }
      ],
      "source": [
        "#accuracy = accuracy_score(y_test, y_pred) \n",
        "\n",
        "#print(\"Accuracy: %.2f%%\" % (accuracy * 100.0)) #27.76%\n",
        "\n",
        "print('Training set score: {:.4f}'.format(model.score(X_train, y_train)))\n",
        "\n",
        "print('Test set score: {:.4f}'.format(model.score(X_test, y_test)))"
      ]
    },
    {
      "cell_type": "code",
      "source": [
        "y_pred=model.predict(X_test)"
      ],
      "metadata": {
        "id": "HZ5XtN9HzB7F"
      },
      "execution_count": null,
      "outputs": []
    },
    {
      "cell_type": "code",
      "execution_count": null,
      "metadata": {
        "id": "zbkJ57LPKpjE"
      },
      "outputs": [],
      "source": [
        "catboost_result_4=model.predict(scaled_test_data)"
      ]
    },
    {
      "cell_type": "code",
      "execution_count": null,
      "metadata": {
        "id": "NPjRXU1JKpjF"
      },
      "outputs": [],
      "source": [
        "save_result(catboost_result_4,'catboost_result_4')"
      ]
    },
    {
      "cell_type": "code",
      "execution_count": null,
      "metadata": {
        "id": "5NPXqeagAxX7"
      },
      "outputs": [],
      "source": [
        "from sklearn.metrics import confusion_matrix\n",
        "cm = confusion_matrix(y_test, y_pred)\n",
        "print('Confusion matrix\\n\\n', cm)\n",
        "print('\\nTrue Positives(TP) = ', cm[0,0])\n",
        "print('\\nTrue Negatives(TN) = ', cm[1,1])\n",
        "print('\\nFalse Positives(FP) = ', cm[0,1])\n",
        "print('\\nFalse Negatives(FN) = ', cm[1,0])"
      ]
    },
    {
      "cell_type": "markdown",
      "source": [
        "Tried Tunning LGBM classifer but changing the various parameters like, L1,L2, Feature fraction, Bagging fraction, Num_iterations, etc."
      ],
      "metadata": {
        "id": "6Izo3qmDBCy_"
      }
    },
    {
      "cell_type": "code",
      "execution_count": null,
      "metadata": {
        "id": "wP09Zt1OE_YL"
      },
      "outputs": [],
      "source": [
        "import lightgbm as lgb\n",
        "#clf = lgb.LGBMClassifier()\n",
        "clf = lgb.LGBMClassifier(objective= 'multiclass',\n",
        "      metric=  ['multi_logloss'],#'auc',\n",
        "     verbosity= -1,\n",
        "      boosting_type= 'gbdt', #gbrt\n",
        "      num_iterations=210,\n",
        "      learning_rate=0.5,\n",
        "      lambda_l1= 0.0005523588106120283,\n",
        "      lambda_l2= 6.72929973145413e-07,\n",
        "      num_leaves= 6,\n",
        "      extra_trees=1,\n",
        "      feature_fraction= 0.8,\n",
        "      bagging_fraction= 0.9,\n",
        "     bagging_freq= 1,\n",
        "     min_child_samples= 20    )\n"
      ]
    },
    {
      "cell_type": "code",
      "execution_count": null,
      "metadata": {
        "id": "S7MurXl6E_YM"
      },
      "outputs": [],
      "source": [
        "clf.fit(X_train, y_train)"
      ]
    },
    {
      "cell_type": "code",
      "execution_count": null,
      "metadata": {
        "id": "o8vEsMZiE_YM"
      },
      "outputs": [],
      "source": [
        "lgb_pred=clf.predict(X_test)\n"
      ]
    },
    {
      "cell_type": "code",
      "execution_count": null,
      "metadata": {
        "colab": {
          "base_uri": "https://localhost:8080/"
        },
        "id": "nJD0PT9nE_YM",
        "outputId": "3f6acd5c-e338-464d-b77e-fce823ed0f3c"
      },
      "outputs": [
        {
          "output_type": "stream",
          "name": "stdout",
          "text": [
            "LightGBM Model accuracy score: 0.2776\n"
          ]
        }
      ],
      "source": [
        "# view accuracy\n",
        "from sklearn.metrics import accuracy_score\n",
        "accuracy=accuracy_score(lgb_pred, y_test)\n",
        "print('LightGBM Model accuracy score: {0:0.4f}'.format(accuracy_score(y_test, lgb_pred)))"
      ]
    },
    {
      "cell_type": "code",
      "execution_count": null,
      "metadata": {
        "id": "emWvKOemq4Zw"
      },
      "outputs": [],
      "source": [
        "LGBM_result_4=clf.predict(scaled_test_data)"
      ]
    },
    {
      "cell_type": "code",
      "execution_count": null,
      "metadata": {
        "id": "GF9avk_Uq4Zx"
      },
      "outputs": [],
      "source": [
        "save_result(LGBM_result_4,'LGBM_result_4')"
      ]
    },
    {
      "cell_type": "markdown",
      "source": [
        "Grid Search to find Optimal Parameters- XGBoost classifier"
      ],
      "metadata": {
        "id": "89W-FXNRf891"
      }
    },
    {
      "cell_type": "code",
      "source": [
        "from xgboost import XGBClassifier\n",
        "from sklearn.model_selection import GridSearchCV\n",
        "estimator = XGBClassifier(\n",
        "    objective= 'multiclass',\n",
        "    nthread=4,\n",
        "    seed=42\n",
        ")\n",
        "\n",
        "parameters = {\n",
        "    'max_depth': range (2, 10, 1),\n",
        "    'n_estimators': range(60, 400, 40),\n",
        "    'learning_rate': [0.1, 0.01, 0.05],\n",
        "    'reg_alpha' : [0.1,0.2,0.3,0.4],\n",
        "    'colsample_bytree' : [0.4,0.5,0.6,0.7],\n",
        "    'subsample' :  [0.5,0.6,0.7,0.8,0.9],\n",
        "    'max_depth': [3,4,5,6,7,8,9] \n",
        "    'gamma': range (0,10,1)\n",
        "}\n",
        "\n",
        "\n",
        "grid_search = GridSearchCV(\n",
        "    estimator=estimator,\n",
        "    param_grid=parameters,\n",
        "    scoring = 'mlogloss',\n",
        "    n_jobs = 10,\n",
        "    cv = 10,\n",
        "    verbose=True\n",
        ")\n",
        "\n",
        "grid_search.fit(X_train, y_train)\n"
      ],
      "metadata": {
        "id": "DOy-aAoIeOtm"
      },
      "execution_count": null,
      "outputs": []
    }
  ],
  "metadata": {
    "colab": {
      "collapsed_sections": [],
      "name": "Gupta_FHP6QZ.ipynb",
      "provenance": []
    },
    "kernelspec": {
      "display_name": "Python 3 (ipykernel)",
      "language": "python",
      "name": "python3"
    },
    "language_info": {
      "codemirror_mode": {
        "name": "ipython",
        "version": 3
      },
      "file_extension": ".py",
      "mimetype": "text/x-python",
      "name": "python",
      "nbconvert_exporter": "python",
      "pygments_lexer": "ipython3",
      "version": "3.9.6"
    }
  },
  "nbformat": 4,
  "nbformat_minor": 0
}