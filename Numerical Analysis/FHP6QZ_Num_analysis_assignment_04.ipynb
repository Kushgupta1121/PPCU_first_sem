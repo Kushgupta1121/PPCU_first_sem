{
  "nbformat": 4,
  "nbformat_minor": 0,
  "metadata": {
    "colab": {
      "name": "FHP6QZ_Num_analysis_assignment_04.ipynb",
      "provenance": []
    },
    "kernelspec": {
      "name": "python3",
      "display_name": "Python 3"
    },
    "language_info": {
      "name": "python"
    }
  },
  "cells": [
    {
      "cell_type": "markdown",
      "source": [
        "FHP6QZ-Numerical_Analysis_Assignment-04"
      ],
      "metadata": {
        "id": "guXfs5-_wd64"
      }
    },
    {
      "cell_type": "code",
      "execution_count": 69,
      "metadata": {
        "id": "0d7b4115"
      },
      "outputs": [],
      "source": [
        "#Importing required Libraries\n",
        "import matplotlib.pyplot as plt\n",
        "from IPython.display import  Latex\n",
        "from IPython.display import display\n",
        "from IPython.display import Math\n",
        "\n",
        "import numpy as np\n",
        "np.set_printoptions(precision=4)\n",
        "\n"
      ]
    },
    {
      "cell_type": "code",
      "execution_count": 70,
      "metadata": {
        "id": "2be84fed"
      },
      "outputs": [],
      "source": [
        "#Function to define A Matrix\n",
        "def Get_A(n):\n",
        "    A = np.zeros([n, n])\n",
        "    A[0, :2] = [2, -1]\n",
        "    \n",
        "    for j in range(1, n-1):\n",
        "        A[j, j-1:j+2] = [-1, 2, -1]\n",
        "        \n",
        "    A[n-1, n-2:n] = [-1, 2]\n",
        "    A = (n + 1)**2 * A\n",
        "    return A"
      ]
    },
    {
      "cell_type": "markdown",
      "source": [
        " Exact Value λk = 4(n + 1)2\n",
        "sin2\n",
        "(\n",
        "kπ\n",
        "2(n+1) )"
      ],
      "metadata": {
        "id": "L2jsvisk7FMx"
      }
    },
    {
      "cell_type": "code",
      "execution_count": 71,
      "metadata": {
        "id": "c95edf91"
      },
      "outputs": [],
      "source": [
        "#Defining Lambda\n",
        "def Get_Lambdas(n):\n",
        "    lambdas_list = list()\n",
        "    \n",
        "\n",
        "    for i in range(1, n + 1):\n",
        "        lambdas_list.append(4 * (n + 1)**2 * np.sin((i * np.pi) / (2 * (n + 1)))**2)\n",
        "        \n",
        "    return lambdas_list"
      ]
    },
    {
      "cell_type": "code",
      "execution_count": 72,
      "metadata": {
        "id": "6f8d3e48"
      },
      "outputs": [],
      "source": [
        "# Function defining QR_Algorithm\n",
        "def QR_Algo(A):\n",
        "    Q = np.eye(A.shape[0])\n",
        "    R = A\n",
        "    for k in range(A.shape[1] - 1):\n",
        "        x = R[k:, k]\n",
        "        sign_x1 = x[0] / abs(x[0]) if x[0] != 0 else 1\n",
        "        E1 = np.zeros_like(x)\n",
        "        E1[0] = 1\n",
        "        v = sign_x1 * np.linalg.norm(x) * E1 + x\n",
        "        G = np.eye(len(x)) - 2 / np.dot(v, v.T) * np.outer(v, v)\n",
        "        \n",
        "        Q_i = np.eye(A.shape[0])\n",
        "        Q_i[-G.shape[0]:, -G.shape[1]:] = G\n",
        "        \n",
        "        R = Q_i @ R\n",
        "        Q = Q @ Q_i\n",
        "    \n",
        "    return Q, R"
      ]
    },
    {
      "cell_type": "code",
      "execution_count": 73,
      "metadata": {
        "id": "d22d0bbd"
      },
      "outputs": [],
      "source": [
        "# Funtion for Tridiagonal Matrix\n",
        "def Tridiagonal_Mat(N, p): #\n",
        "    \n",
        "    a = np.array([N[i, i-1] for i in range(1, N.shape[0])])\n",
        "    b = np.array([N[i, i] for i in range(N.shape[0])])\n",
        "    c = np.array([N[i, i+1] for i in range(N.shape[0] - 1)])\n",
        "    \n",
        "    u = [b[0]]\n",
        "    v = [p[0]]\n",
        "\n",
        "    for j in range(1, len(p)):\n",
        "        l = a[j-1] / u[j-1]\n",
        "        u.append(b[j] - l * c[j-1])\n",
        "        v.append(p[j] - l * v[j-1])\n",
        "        \n",
        "    X = np.zeros(len(p))\n",
        "    X[-1] = v[-1] / u[-1]\n",
        "    \n",
        "    for k in range(len(X) - 2, -1, -1):\n",
        "        assert X[k] == 0\n",
        "        X[k] = (v[k] - c[k] * X[k+1]) / u[k]\n",
        "\n",
        "    #print(X)   \n",
        "    return X"
      ]
    },
    {
      "cell_type": "code",
      "execution_count": 74,
      "metadata": {
        "id": "ee6dd69d"
      },
      "outputs": [],
      "source": [
        "# Function to calculate the Eigen Values\n",
        "def Get_Eigen_values(A, epsilion=0.01):\n",
        "\n",
        "    eigen_values = list()\n",
        "    \n",
        "    while A.shape[0] > 1:\n",
        "        H = A\n",
        "        prev_d = 0\n",
        "        while abs(A[-1, -2]) > epsilion:\n",
        "            if prev_d == np.round(A[-1, -2], 4):\n",
        "                # Perturbation if needed\n",
        "                M = A[-1, -1] + 0.2\n",
        "            else:\n",
        "                M = A[-1, -1]\n",
        "                \n",
        "            prev_d = np.round(A[-1, -2], 4)\n",
        "            \n",
        "            Q, R = QR_Algo(A - M * np.eye(A.shape[0]))\n",
        "            A = R @ Q + M * np.eye(A.shape[0])\n",
        "            \n",
        "        eigen_values.append(A[-1, -1])\n",
        "        A = A[:-1, :-1]\n",
        "        \n",
        "    eigen_values.append(A[-1, -1])\n",
        "    \n",
        "    return eigen_values        "
      ]
    },
    {
      "cell_type": "markdown",
      "source": [
        "A). For N=10, Calculating and Comparing the Eigen Values."
      ],
      "metadata": {
        "id": "12qTLPdG6Ya6"
      }
    },
    {
      "cell_type": "code",
      "source": [
        "#Matrix A\n",
        "A = Get_A(10)\n",
        "print(A)"
      ],
      "metadata": {
        "colab": {
          "base_uri": "https://localhost:8080/"
        },
        "id": "2I5nG_hP6a4A",
        "outputId": "eafb5eba-4fcc-43da-ae8d-0d65acb5f378"
      },
      "execution_count": 75,
      "outputs": [
        {
          "output_type": "stream",
          "name": "stdout",
          "text": [
            "[[ 242. -121.    0.    0.    0.    0.    0.    0.    0.    0.]\n",
            " [-121.  242. -121.    0.    0.    0.    0.    0.    0.    0.]\n",
            " [   0. -121.  242. -121.    0.    0.    0.    0.    0.    0.]\n",
            " [   0.    0. -121.  242. -121.    0.    0.    0.    0.    0.]\n",
            " [   0.    0.    0. -121.  242. -121.    0.    0.    0.    0.]\n",
            " [   0.    0.    0.    0. -121.  242. -121.    0.    0.    0.]\n",
            " [   0.    0.    0.    0.    0. -121.  242. -121.    0.    0.]\n",
            " [   0.    0.    0.    0.    0.    0. -121.  242. -121.    0.]\n",
            " [   0.    0.    0.    0.    0.    0.    0. -121.  242. -121.]\n",
            " [   0.    0.    0.    0.    0.    0.    0.    0. -121.  242.]]\n"
          ]
        }
      ]
    },
    {
      "cell_type": "code",
      "source": [
        "#Calculating the Eigen Values of A.\n",
        "#Get_Eigen_values(A)\n",
        "sorted(Get_Eigen_values(A))"
      ],
      "metadata": {
        "colab": {
          "base_uri": "https://localhost:8080/"
        },
        "id": "LluLNH4L08wd",
        "outputId": "ef7cc7e7-eb23-484a-d9fe-4c81da1e34a1"
      },
      "execution_count": 76,
      "outputs": [
        {
          "output_type": "execute_result",
          "data": {
            "text/plain": [
              "[9.802700823417684,\n",
              " 38.41664461675475,\n",
              " 83.52370238999937,\n",
              " 141.46956699162266,\n",
              " 207.5598091380578,\n",
              " 276.440190862135,\n",
              " 342.53043314625927,\n",
              " 400.4762974746387,\n",
              " 445.58335494513585,\n",
              " 474.1972996119794]"
            ]
          },
          "metadata": {},
          "execution_count": 76
        }
      ]
    },
    {
      "cell_type": "code",
      "source": [
        "# Values from the Lambda function.\n",
        "#Eigen values similar to the Get_Eigen_values(A)\n",
        "Get_Lambdas(10)"
      ],
      "metadata": {
        "colab": {
          "base_uri": "https://localhost:8080/"
        },
        "id": "zR-gGhGm6_hj",
        "outputId": "d6a68025-900a-43ca-c092-17bb8365a939"
      },
      "execution_count": 77,
      "outputs": [
        {
          "output_type": "execute_result",
          "data": {
            "text/plain": [
              "[9.802700385291631,\n",
              " 38.41664505485415,\n",
              " 83.523702385241,\n",
              " 141.46956685354348,\n",
              " 207.55980913786502,\n",
              " 276.440190862135,\n",
              " 342.53043314645646,\n",
              " 400.47629761475895,\n",
              " 445.5833549451458,\n",
              " 474.19729961470836]"
            ]
          },
          "metadata": {},
          "execution_count": 77
        }
      ]
    },
    {
      "cell_type": "code",
      "execution_count": 78,
      "metadata": {
        "id": "1233d6cc",
        "colab": {
          "base_uri": "https://localhost:8080/"
        },
        "outputId": "27c23e86-fd6e-4ff2-aedf-06f202b5d859"
      },
      "outputs": [
        {
          "output_type": "execute_result",
          "data": {
            "text/plain": [
              "[9.802700385291486,\n",
              " 38.416645054854094,\n",
              " 83.52370238524095,\n",
              " 141.46956685354348,\n",
              " 207.55980913786493,\n",
              " 276.4401908621345,\n",
              " 342.5304331464561,\n",
              " 400.476297614759,\n",
              " 445.5833549451454,\n",
              " 474.19729961470756]"
            ]
          },
          "metadata": {},
          "execution_count": 78
        }
      ],
      "source": [
        "# Eigen_values from Builtin numpy\n",
        "eigen_value, _ = np.linalg.eig(A)  \n",
        "sorted(eigen_value)"
      ]
    },
    {
      "cell_type": "markdown",
      "source": [
        "B). Inverse iteration to find eigenvector corresponding to the smallest\n",
        "eigenvalue of A."
      ],
      "metadata": {
        "id": "Xw-xPnOG-3TC"
      }
    },
    {
      "cell_type": "code",
      "execution_count": 79,
      "metadata": {
        "id": "51624e98"
      },
      "outputs": [],
      "source": [
        "#Function to calculate Eigen Vectors\n",
        "def Get_Eigen_Vector(n):\n",
        "    eigen_vector = list()\n",
        "    \n",
        "    for j in range(1, n + 1):\n",
        "        eigen_vector.append(np.sin((np.pi * j) / (n + 1)))\n",
        "        \n",
        "    eigen_vector = np.array(eigen_vector)\n",
        "    #Normalizing the values\n",
        "    eigen_vector = eigen_vector / np.linalg.norm(eigen_vector)\n",
        "    \n",
        "    return eigen_vector"
      ]
    },
    {
      "cell_type": "code",
      "execution_count": 80,
      "metadata": {
        "id": "d3eb2360"
      },
      "outputs": [],
      "source": [
        "#Defining Inverse Iteration Function\n",
        "def Inverse_Iteration(A, theta, epsilion=0.001):\n",
        "    prev_v = np.zeros(A.shape[0])\n",
        "    V = np.ones(A.shape[0]) / np.linalg.norm(np.ones(A.shape[0]))\n",
        "    \n",
        "    while np.linalg.norm(abs(V) - abs(prev_v)) > epsilion:\n",
        "        prev_v = V\n",
        "        u = Tridiagonal_Mat(A - theta * np.eye(len(V)), V)\n",
        "        V = u / np.linalg.norm(u)\n",
        "        \n",
        "        error = np.linalg.norm(u - np.dot(prev_v, u) * prev_v)\n",
        "        \n",
        "    return V"
      ]
    },
    {
      "cell_type": "code",
      "execution_count": 81,
      "metadata": {
        "id": "0eac4607",
        "outputId": "c1d7395c-0061-4408-eb65-487f93a2033d",
        "colab": {
          "base_uri": "https://localhost:8080/"
        }
      },
      "outputs": [
        {
          "output_type": "execute_result",
          "data": {
            "text/plain": [
              "9.802700823417684"
            ]
          },
          "metadata": {},
          "execution_count": 81
        }
      ],
      "source": [
        "smallest_eigen_value = min(Get_Eigen_values(A))\n",
        "smallest_eigen_value"
      ]
    },
    {
      "cell_type": "code",
      "execution_count": 82,
      "metadata": {
        "id": "ab456e35",
        "colab": {
          "base_uri": "https://localhost:8080/"
        },
        "outputId": "ad6394aa-bf70-4aa0-ecf9-593e6366c352"
      },
      "outputs": [
        {
          "output_type": "stream",
          "name": "stdout",
          "text": [
            "[0.1201 0.2305 0.3223 0.3879 0.4221 0.4221 0.3879 0.3223 0.2305 0.1201]\n"
          ]
        }
      ],
      "source": [
        "#Calculating eigenvector corresponding to the smallest eigenvalue of A\n",
        "print(Inverse_Iteration(A, smallest_eigen_value))  "
      ]
    },
    {
      "cell_type": "code",
      "execution_count": 83,
      "metadata": {
        "id": "aad0f51e",
        "outputId": "a211d7d4-0458-4ff8-ba89-73edef9112b5",
        "colab": {
          "base_uri": "https://localhost:8080/"
        }
      },
      "outputs": [
        {
          "output_type": "stream",
          "name": "stdout",
          "text": [
            "[0.1201 0.2305 0.3223 0.3879 0.4221 0.4221 0.3879 0.3223 0.2305 0.1201]\n"
          ]
        }
      ],
      "source": [
        "# Eigen vector using the defined Function\n",
        "print(Get_Eigen_Vector(10))  "
      ]
    },
    {
      "cell_type": "code",
      "execution_count": 84,
      "metadata": {
        "id": "b87674a9",
        "outputId": "a3593df5-27b9-40a4-c918-a3de5254813b",
        "colab": {
          "base_uri": "https://localhost:8080/"
        }
      },
      "outputs": [
        {
          "output_type": "stream",
          "name": "stdout",
          "text": [
            "9.802700385291486\n",
            "[-0.1201 -0.2305 -0.3223 -0.3879 -0.4221 -0.4221 -0.3879 -0.3223 -0.2305\n",
            " -0.1201]\n"
          ]
        }
      ],
      "source": [
        "# Smallest eigen value and corresponding eigen vectors from built-in numpy\n",
        "x, y = np.linalg.eig(A)  \n",
        "min_idx = np.argmin(x)\n",
        "print(x[min_idx])\n",
        "print(y[:, min_idx])\n"
      ]
    }
  ]
}